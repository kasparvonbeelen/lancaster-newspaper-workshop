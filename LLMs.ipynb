{
  "nbformat": 4,
  "nbformat_minor": 0,
  "metadata": {
    "colab": {
      "provenance": [],
      "gpuType": "L4",
      "machine_shape": "hm",
      "authorship_tag": "ABX9TyNmxnwIr7qbSEG4jvZ+LmOA",
      "include_colab_link": true
    },
    "kernelspec": {
      "name": "python3",
      "display_name": "Python 3"
    },
    "language_info": {
      "name": "python"
    },
    "accelerator": "GPU",
    "widgets": {
      "application/vnd.jupyter.widget-state+json": {
        "7ddc2c4bf5c14ad39134c78602faca6e": {
          "model_module": "@jupyter-widgets/controls",
          "model_name": "HBoxModel",
          "model_module_version": "1.5.0",
          "state": {
            "_dom_classes": [],
            "_model_module": "@jupyter-widgets/controls",
            "_model_module_version": "1.5.0",
            "_model_name": "HBoxModel",
            "_view_count": null,
            "_view_module": "@jupyter-widgets/controls",
            "_view_module_version": "1.5.0",
            "_view_name": "HBoxView",
            "box_style": "",
            "children": [
              "IPY_MODEL_9a3eefb9ed914edc90608cb2bdfa2e56",
              "IPY_MODEL_3d37aba3d4794d95b737a01b670b1b11",
              "IPY_MODEL_d5fc7ee9caf8451fb36f3e7431ec8726"
            ],
            "layout": "IPY_MODEL_699701a8633542ae9c6717f2b32dc154"
          }
        },
        "9a3eefb9ed914edc90608cb2bdfa2e56": {
          "model_module": "@jupyter-widgets/controls",
          "model_name": "HTMLModel",
          "model_module_version": "1.5.0",
          "state": {
            "_dom_classes": [],
            "_model_module": "@jupyter-widgets/controls",
            "_model_module_version": "1.5.0",
            "_model_name": "HTMLModel",
            "_view_count": null,
            "_view_module": "@jupyter-widgets/controls",
            "_view_module_version": "1.5.0",
            "_view_name": "HTMLView",
            "description": "",
            "description_tooltip": null,
            "layout": "IPY_MODEL_16516278ca2246b6bcfd227174c86e2d",
            "placeholder": "​",
            "style": "IPY_MODEL_4477f380003248879e0e816c2211d795",
            "value": "Loading checkpoint shards: 100%"
          }
        },
        "3d37aba3d4794d95b737a01b670b1b11": {
          "model_module": "@jupyter-widgets/controls",
          "model_name": "FloatProgressModel",
          "model_module_version": "1.5.0",
          "state": {
            "_dom_classes": [],
            "_model_module": "@jupyter-widgets/controls",
            "_model_module_version": "1.5.0",
            "_model_name": "FloatProgressModel",
            "_view_count": null,
            "_view_module": "@jupyter-widgets/controls",
            "_view_module_version": "1.5.0",
            "_view_name": "ProgressView",
            "bar_style": "success",
            "description": "",
            "description_tooltip": null,
            "layout": "IPY_MODEL_225dddec4eae4bcdbbda361fba7652ae",
            "max": 4,
            "min": 0,
            "orientation": "horizontal",
            "style": "IPY_MODEL_7030843e54614887bee59eac3ea47392",
            "value": 4
          }
        },
        "d5fc7ee9caf8451fb36f3e7431ec8726": {
          "model_module": "@jupyter-widgets/controls",
          "model_name": "HTMLModel",
          "model_module_version": "1.5.0",
          "state": {
            "_dom_classes": [],
            "_model_module": "@jupyter-widgets/controls",
            "_model_module_version": "1.5.0",
            "_model_name": "HTMLModel",
            "_view_count": null,
            "_view_module": "@jupyter-widgets/controls",
            "_view_module_version": "1.5.0",
            "_view_name": "HTMLView",
            "description": "",
            "description_tooltip": null,
            "layout": "IPY_MODEL_66d5012f308b43d794af6bc182df654a",
            "placeholder": "​",
            "style": "IPY_MODEL_e2c7553b014f4c2eb0fdf6d9ca55cfa9",
            "value": " 4/4 [00:03&lt;00:00,  1.14it/s]"
          }
        },
        "699701a8633542ae9c6717f2b32dc154": {
          "model_module": "@jupyter-widgets/base",
          "model_name": "LayoutModel",
          "model_module_version": "1.2.0",
          "state": {
            "_model_module": "@jupyter-widgets/base",
            "_model_module_version": "1.2.0",
            "_model_name": "LayoutModel",
            "_view_count": null,
            "_view_module": "@jupyter-widgets/base",
            "_view_module_version": "1.2.0",
            "_view_name": "LayoutView",
            "align_content": null,
            "align_items": null,
            "align_self": null,
            "border": null,
            "bottom": null,
            "display": null,
            "flex": null,
            "flex_flow": null,
            "grid_area": null,
            "grid_auto_columns": null,
            "grid_auto_flow": null,
            "grid_auto_rows": null,
            "grid_column": null,
            "grid_gap": null,
            "grid_row": null,
            "grid_template_areas": null,
            "grid_template_columns": null,
            "grid_template_rows": null,
            "height": null,
            "justify_content": null,
            "justify_items": null,
            "left": null,
            "margin": null,
            "max_height": null,
            "max_width": null,
            "min_height": null,
            "min_width": null,
            "object_fit": null,
            "object_position": null,
            "order": null,
            "overflow": null,
            "overflow_x": null,
            "overflow_y": null,
            "padding": null,
            "right": null,
            "top": null,
            "visibility": null,
            "width": null
          }
        },
        "16516278ca2246b6bcfd227174c86e2d": {
          "model_module": "@jupyter-widgets/base",
          "model_name": "LayoutModel",
          "model_module_version": "1.2.0",
          "state": {
            "_model_module": "@jupyter-widgets/base",
            "_model_module_version": "1.2.0",
            "_model_name": "LayoutModel",
            "_view_count": null,
            "_view_module": "@jupyter-widgets/base",
            "_view_module_version": "1.2.0",
            "_view_name": "LayoutView",
            "align_content": null,
            "align_items": null,
            "align_self": null,
            "border": null,
            "bottom": null,
            "display": null,
            "flex": null,
            "flex_flow": null,
            "grid_area": null,
            "grid_auto_columns": null,
            "grid_auto_flow": null,
            "grid_auto_rows": null,
            "grid_column": null,
            "grid_gap": null,
            "grid_row": null,
            "grid_template_areas": null,
            "grid_template_columns": null,
            "grid_template_rows": null,
            "height": null,
            "justify_content": null,
            "justify_items": null,
            "left": null,
            "margin": null,
            "max_height": null,
            "max_width": null,
            "min_height": null,
            "min_width": null,
            "object_fit": null,
            "object_position": null,
            "order": null,
            "overflow": null,
            "overflow_x": null,
            "overflow_y": null,
            "padding": null,
            "right": null,
            "top": null,
            "visibility": null,
            "width": null
          }
        },
        "4477f380003248879e0e816c2211d795": {
          "model_module": "@jupyter-widgets/controls",
          "model_name": "DescriptionStyleModel",
          "model_module_version": "1.5.0",
          "state": {
            "_model_module": "@jupyter-widgets/controls",
            "_model_module_version": "1.5.0",
            "_model_name": "DescriptionStyleModel",
            "_view_count": null,
            "_view_module": "@jupyter-widgets/base",
            "_view_module_version": "1.2.0",
            "_view_name": "StyleView",
            "description_width": ""
          }
        },
        "225dddec4eae4bcdbbda361fba7652ae": {
          "model_module": "@jupyter-widgets/base",
          "model_name": "LayoutModel",
          "model_module_version": "1.2.0",
          "state": {
            "_model_module": "@jupyter-widgets/base",
            "_model_module_version": "1.2.0",
            "_model_name": "LayoutModel",
            "_view_count": null,
            "_view_module": "@jupyter-widgets/base",
            "_view_module_version": "1.2.0",
            "_view_name": "LayoutView",
            "align_content": null,
            "align_items": null,
            "align_self": null,
            "border": null,
            "bottom": null,
            "display": null,
            "flex": null,
            "flex_flow": null,
            "grid_area": null,
            "grid_auto_columns": null,
            "grid_auto_flow": null,
            "grid_auto_rows": null,
            "grid_column": null,
            "grid_gap": null,
            "grid_row": null,
            "grid_template_areas": null,
            "grid_template_columns": null,
            "grid_template_rows": null,
            "height": null,
            "justify_content": null,
            "justify_items": null,
            "left": null,
            "margin": null,
            "max_height": null,
            "max_width": null,
            "min_height": null,
            "min_width": null,
            "object_fit": null,
            "object_position": null,
            "order": null,
            "overflow": null,
            "overflow_x": null,
            "overflow_y": null,
            "padding": null,
            "right": null,
            "top": null,
            "visibility": null,
            "width": null
          }
        },
        "7030843e54614887bee59eac3ea47392": {
          "model_module": "@jupyter-widgets/controls",
          "model_name": "ProgressStyleModel",
          "model_module_version": "1.5.0",
          "state": {
            "_model_module": "@jupyter-widgets/controls",
            "_model_module_version": "1.5.0",
            "_model_name": "ProgressStyleModel",
            "_view_count": null,
            "_view_module": "@jupyter-widgets/base",
            "_view_module_version": "1.2.0",
            "_view_name": "StyleView",
            "bar_color": null,
            "description_width": ""
          }
        },
        "66d5012f308b43d794af6bc182df654a": {
          "model_module": "@jupyter-widgets/base",
          "model_name": "LayoutModel",
          "model_module_version": "1.2.0",
          "state": {
            "_model_module": "@jupyter-widgets/base",
            "_model_module_version": "1.2.0",
            "_model_name": "LayoutModel",
            "_view_count": null,
            "_view_module": "@jupyter-widgets/base",
            "_view_module_version": "1.2.0",
            "_view_name": "LayoutView",
            "align_content": null,
            "align_items": null,
            "align_self": null,
            "border": null,
            "bottom": null,
            "display": null,
            "flex": null,
            "flex_flow": null,
            "grid_area": null,
            "grid_auto_columns": null,
            "grid_auto_flow": null,
            "grid_auto_rows": null,
            "grid_column": null,
            "grid_gap": null,
            "grid_row": null,
            "grid_template_areas": null,
            "grid_template_columns": null,
            "grid_template_rows": null,
            "height": null,
            "justify_content": null,
            "justify_items": null,
            "left": null,
            "margin": null,
            "max_height": null,
            "max_width": null,
            "min_height": null,
            "min_width": null,
            "object_fit": null,
            "object_position": null,
            "order": null,
            "overflow": null,
            "overflow_x": null,
            "overflow_y": null,
            "padding": null,
            "right": null,
            "top": null,
            "visibility": null,
            "width": null
          }
        },
        "e2c7553b014f4c2eb0fdf6d9ca55cfa9": {
          "model_module": "@jupyter-widgets/controls",
          "model_name": "DescriptionStyleModel",
          "model_module_version": "1.5.0",
          "state": {
            "_model_module": "@jupyter-widgets/controls",
            "_model_module_version": "1.5.0",
            "_model_name": "DescriptionStyleModel",
            "_view_count": null,
            "_view_module": "@jupyter-widgets/base",
            "_view_module_version": "1.2.0",
            "_view_name": "StyleView",
            "description_width": ""
          }
        }
      }
    }
  },
  "cells": [
    {
      "cell_type": "markdown",
      "metadata": {
        "id": "view-in-github",
        "colab_type": "text"
      },
      "source": [
        "<a href=\"https://colab.research.google.com/github/kasparvonbeelen/lancaster-newspaper-workshop/blob/wc/LLMs.ipynb\" target=\"_parent\"><img src=\"https://colab.research.google.com/assets/colab-badge.svg\" alt=\"Open In Colab\"/></a>"
      ]
    },
    {
      "cell_type": "code",
      "source": [
        "!pip install -q -U \"transformers==4.40.0\" datasets --upgrade"
      ],
      "metadata": {
        "id": "qxa9ES0zX9ic"
      },
      "execution_count": null,
      "outputs": []
    },
    {
      "cell_type": "code",
      "source": [
        "import warnings\n",
        "warnings.filterwarnings('ignore')"
      ],
      "metadata": {
        "id": "IivyFPPNQ0t-"
      },
      "execution_count": null,
      "outputs": []
    },
    {
      "cell_type": "code",
      "source": [
        "#from transformers import AutoTokenizer, AutoModelForCausalLM, TextStreamer, BitsAndBytesConfig\n",
        "import transformers\n",
        "from datasets import Dataset\n",
        "import torch\n",
        "from tqdm import tqdm\n",
        "import pandas as pd\n",
        "import torch\n",
        "\n",
        "device = 'cuda'"
      ],
      "metadata": {
        "id": "27FpdOCLasrJ"
      },
      "execution_count": null,
      "outputs": []
    },
    {
      "cell_type": "code",
      "source": [
        "df = pd.read_csv('https://raw.githubusercontent.com/kasparvonbeelen/lancaster-newspaper-workshop/wc/data/subsample500mixedocr-selected_mitch.csv')\n",
        "df.head(3)"
      ],
      "metadata": {
        "colab": {
          "base_uri": "https://localhost:8080/",
          "height": 354
        },
        "id": "bj-797e0Z9zr",
        "outputId": "b80b4454-c4d1-40a8-e869-d8df3b1f2036"
      },
      "execution_count": null,
      "outputs": [
        {
          "output_type": "execute_result",
          "data": {
            "text/plain": [
              "   publication_code  issue_id  item_id  \\\n",
              "0              2249       624  art0017   \n",
              "1              2250       908  art0002   \n",
              "2              2250       406  art0024   \n",
              "\n",
              "                                newspaper_title  \\\n",
              "0                                 The Bee-Hive.   \n",
              "1  The Industrial Review, Social and Political.   \n",
              "2  The Industrial Review, Social and Political.   \n",
              "\n",
              "                                      data_provider        date  year  month  \\\n",
              "0  British Library Heritage Made Digital Newspapers  1871-06-24  1871      6   \n",
              "1  British Library Heritage Made Digital Newspapers  1877-09-08  1877      9   \n",
              "2  British Library Heritage Made Digital Newspapers  1878-04-06  1878      4   \n",
              "\n",
              "   day         location  word_count  ocrquality political_leaning_label  \\\n",
              "0   24  London, England         271      0.9098                 liberal   \n",
              "1    8  London, England        2791      0.9841                 liberal   \n",
              "2    6  London, England         304      0.9870                 liberal   \n",
              "\n",
              "  price_label                                               text  \n",
              "0          1d  THE TICHBORNE CASE.  On Tuesday, before the So...  \n",
              "1          2d  THE CLERGY AND TRADE UNIONS.  LETTER FROM REV....  \n",
              "2          2d  INDUSTRIAL REVIEW  OUR LEGISLATORS.  THE unrul...  "
            ],
            "text/html": [
              "\n",
              "  <div id=\"df-5ef51408-576a-4f10-9838-e5e4fc0215c7\" class=\"colab-df-container\">\n",
              "    <div>\n",
              "<style scoped>\n",
              "    .dataframe tbody tr th:only-of-type {\n",
              "        vertical-align: middle;\n",
              "    }\n",
              "\n",
              "    .dataframe tbody tr th {\n",
              "        vertical-align: top;\n",
              "    }\n",
              "\n",
              "    .dataframe thead th {\n",
              "        text-align: right;\n",
              "    }\n",
              "</style>\n",
              "<table border=\"1\" class=\"dataframe\">\n",
              "  <thead>\n",
              "    <tr style=\"text-align: right;\">\n",
              "      <th></th>\n",
              "      <th>publication_code</th>\n",
              "      <th>issue_id</th>\n",
              "      <th>item_id</th>\n",
              "      <th>newspaper_title</th>\n",
              "      <th>data_provider</th>\n",
              "      <th>date</th>\n",
              "      <th>year</th>\n",
              "      <th>month</th>\n",
              "      <th>day</th>\n",
              "      <th>location</th>\n",
              "      <th>word_count</th>\n",
              "      <th>ocrquality</th>\n",
              "      <th>political_leaning_label</th>\n",
              "      <th>price_label</th>\n",
              "      <th>text</th>\n",
              "    </tr>\n",
              "  </thead>\n",
              "  <tbody>\n",
              "    <tr>\n",
              "      <th>0</th>\n",
              "      <td>2249</td>\n",
              "      <td>624</td>\n",
              "      <td>art0017</td>\n",
              "      <td>The Bee-Hive.</td>\n",
              "      <td>British Library Heritage Made Digital Newspapers</td>\n",
              "      <td>1871-06-24</td>\n",
              "      <td>1871</td>\n",
              "      <td>6</td>\n",
              "      <td>24</td>\n",
              "      <td>London, England</td>\n",
              "      <td>271</td>\n",
              "      <td>0.9098</td>\n",
              "      <td>liberal</td>\n",
              "      <td>1d</td>\n",
              "      <td>THE TICHBORNE CASE.  On Tuesday, before the So...</td>\n",
              "    </tr>\n",
              "    <tr>\n",
              "      <th>1</th>\n",
              "      <td>2250</td>\n",
              "      <td>908</td>\n",
              "      <td>art0002</td>\n",
              "      <td>The Industrial Review, Social and Political.</td>\n",
              "      <td>British Library Heritage Made Digital Newspapers</td>\n",
              "      <td>1877-09-08</td>\n",
              "      <td>1877</td>\n",
              "      <td>9</td>\n",
              "      <td>8</td>\n",
              "      <td>London, England</td>\n",
              "      <td>2791</td>\n",
              "      <td>0.9841</td>\n",
              "      <td>liberal</td>\n",
              "      <td>2d</td>\n",
              "      <td>THE CLERGY AND TRADE UNIONS.  LETTER FROM REV....</td>\n",
              "    </tr>\n",
              "    <tr>\n",
              "      <th>2</th>\n",
              "      <td>2250</td>\n",
              "      <td>406</td>\n",
              "      <td>art0024</td>\n",
              "      <td>The Industrial Review, Social and Political.</td>\n",
              "      <td>British Library Heritage Made Digital Newspapers</td>\n",
              "      <td>1878-04-06</td>\n",
              "      <td>1878</td>\n",
              "      <td>4</td>\n",
              "      <td>6</td>\n",
              "      <td>London, England</td>\n",
              "      <td>304</td>\n",
              "      <td>0.9870</td>\n",
              "      <td>liberal</td>\n",
              "      <td>2d</td>\n",
              "      <td>INDUSTRIAL REVIEW  OUR LEGISLATORS.  THE unrul...</td>\n",
              "    </tr>\n",
              "  </tbody>\n",
              "</table>\n",
              "</div>\n",
              "    <div class=\"colab-df-buttons\">\n",
              "\n",
              "  <div class=\"colab-df-container\">\n",
              "    <button class=\"colab-df-convert\" onclick=\"convertToInteractive('df-5ef51408-576a-4f10-9838-e5e4fc0215c7')\"\n",
              "            title=\"Convert this dataframe to an interactive table.\"\n",
              "            style=\"display:none;\">\n",
              "\n",
              "  <svg xmlns=\"http://www.w3.org/2000/svg\" height=\"24px\" viewBox=\"0 -960 960 960\">\n",
              "    <path d=\"M120-120v-720h720v720H120Zm60-500h600v-160H180v160Zm220 220h160v-160H400v160Zm0 220h160v-160H400v160ZM180-400h160v-160H180v160Zm440 0h160v-160H620v160ZM180-180h160v-160H180v160Zm440 0h160v-160H620v160Z\"/>\n",
              "  </svg>\n",
              "    </button>\n",
              "\n",
              "  <style>\n",
              "    .colab-df-container {\n",
              "      display:flex;\n",
              "      gap: 12px;\n",
              "    }\n",
              "\n",
              "    .colab-df-convert {\n",
              "      background-color: #E8F0FE;\n",
              "      border: none;\n",
              "      border-radius: 50%;\n",
              "      cursor: pointer;\n",
              "      display: none;\n",
              "      fill: #1967D2;\n",
              "      height: 32px;\n",
              "      padding: 0 0 0 0;\n",
              "      width: 32px;\n",
              "    }\n",
              "\n",
              "    .colab-df-convert:hover {\n",
              "      background-color: #E2EBFA;\n",
              "      box-shadow: 0px 1px 2px rgba(60, 64, 67, 0.3), 0px 1px 3px 1px rgba(60, 64, 67, 0.15);\n",
              "      fill: #174EA6;\n",
              "    }\n",
              "\n",
              "    .colab-df-buttons div {\n",
              "      margin-bottom: 4px;\n",
              "    }\n",
              "\n",
              "    [theme=dark] .colab-df-convert {\n",
              "      background-color: #3B4455;\n",
              "      fill: #D2E3FC;\n",
              "    }\n",
              "\n",
              "    [theme=dark] .colab-df-convert:hover {\n",
              "      background-color: #434B5C;\n",
              "      box-shadow: 0px 1px 3px 1px rgba(0, 0, 0, 0.15);\n",
              "      filter: drop-shadow(0px 1px 2px rgba(0, 0, 0, 0.3));\n",
              "      fill: #FFFFFF;\n",
              "    }\n",
              "  </style>\n",
              "\n",
              "    <script>\n",
              "      const buttonEl =\n",
              "        document.querySelector('#df-5ef51408-576a-4f10-9838-e5e4fc0215c7 button.colab-df-convert');\n",
              "      buttonEl.style.display =\n",
              "        google.colab.kernel.accessAllowed ? 'block' : 'none';\n",
              "\n",
              "      async function convertToInteractive(key) {\n",
              "        const element = document.querySelector('#df-5ef51408-576a-4f10-9838-e5e4fc0215c7');\n",
              "        const dataTable =\n",
              "          await google.colab.kernel.invokeFunction('convertToInteractive',\n",
              "                                                    [key], {});\n",
              "        if (!dataTable) return;\n",
              "\n",
              "        const docLinkHtml = 'Like what you see? Visit the ' +\n",
              "          '<a target=\"_blank\" href=https://colab.research.google.com/notebooks/data_table.ipynb>data table notebook</a>'\n",
              "          + ' to learn more about interactive tables.';\n",
              "        element.innerHTML = '';\n",
              "        dataTable['output_type'] = 'display_data';\n",
              "        await google.colab.output.renderOutput(dataTable, element);\n",
              "        const docLink = document.createElement('div');\n",
              "        docLink.innerHTML = docLinkHtml;\n",
              "        element.appendChild(docLink);\n",
              "      }\n",
              "    </script>\n",
              "  </div>\n",
              "\n",
              "\n",
              "<div id=\"df-1198a4b8-8164-4fcc-9489-221c7781fcbb\">\n",
              "  <button class=\"colab-df-quickchart\" onclick=\"quickchart('df-1198a4b8-8164-4fcc-9489-221c7781fcbb')\"\n",
              "            title=\"Suggest charts\"\n",
              "            style=\"display:none;\">\n",
              "\n",
              "<svg xmlns=\"http://www.w3.org/2000/svg\" height=\"24px\"viewBox=\"0 0 24 24\"\n",
              "     width=\"24px\">\n",
              "    <g>\n",
              "        <path d=\"M19 3H5c-1.1 0-2 .9-2 2v14c0 1.1.9 2 2 2h14c1.1 0 2-.9 2-2V5c0-1.1-.9-2-2-2zM9 17H7v-7h2v7zm4 0h-2V7h2v10zm4 0h-2v-4h2v4z\"/>\n",
              "    </g>\n",
              "</svg>\n",
              "  </button>\n",
              "\n",
              "<style>\n",
              "  .colab-df-quickchart {\n",
              "      --bg-color: #E8F0FE;\n",
              "      --fill-color: #1967D2;\n",
              "      --hover-bg-color: #E2EBFA;\n",
              "      --hover-fill-color: #174EA6;\n",
              "      --disabled-fill-color: #AAA;\n",
              "      --disabled-bg-color: #DDD;\n",
              "  }\n",
              "\n",
              "  [theme=dark] .colab-df-quickchart {\n",
              "      --bg-color: #3B4455;\n",
              "      --fill-color: #D2E3FC;\n",
              "      --hover-bg-color: #434B5C;\n",
              "      --hover-fill-color: #FFFFFF;\n",
              "      --disabled-bg-color: #3B4455;\n",
              "      --disabled-fill-color: #666;\n",
              "  }\n",
              "\n",
              "  .colab-df-quickchart {\n",
              "    background-color: var(--bg-color);\n",
              "    border: none;\n",
              "    border-radius: 50%;\n",
              "    cursor: pointer;\n",
              "    display: none;\n",
              "    fill: var(--fill-color);\n",
              "    height: 32px;\n",
              "    padding: 0;\n",
              "    width: 32px;\n",
              "  }\n",
              "\n",
              "  .colab-df-quickchart:hover {\n",
              "    background-color: var(--hover-bg-color);\n",
              "    box-shadow: 0 1px 2px rgba(60, 64, 67, 0.3), 0 1px 3px 1px rgba(60, 64, 67, 0.15);\n",
              "    fill: var(--button-hover-fill-color);\n",
              "  }\n",
              "\n",
              "  .colab-df-quickchart-complete:disabled,\n",
              "  .colab-df-quickchart-complete:disabled:hover {\n",
              "    background-color: var(--disabled-bg-color);\n",
              "    fill: var(--disabled-fill-color);\n",
              "    box-shadow: none;\n",
              "  }\n",
              "\n",
              "  .colab-df-spinner {\n",
              "    border: 2px solid var(--fill-color);\n",
              "    border-color: transparent;\n",
              "    border-bottom-color: var(--fill-color);\n",
              "    animation:\n",
              "      spin 1s steps(1) infinite;\n",
              "  }\n",
              "\n",
              "  @keyframes spin {\n",
              "    0% {\n",
              "      border-color: transparent;\n",
              "      border-bottom-color: var(--fill-color);\n",
              "      border-left-color: var(--fill-color);\n",
              "    }\n",
              "    20% {\n",
              "      border-color: transparent;\n",
              "      border-left-color: var(--fill-color);\n",
              "      border-top-color: var(--fill-color);\n",
              "    }\n",
              "    30% {\n",
              "      border-color: transparent;\n",
              "      border-left-color: var(--fill-color);\n",
              "      border-top-color: var(--fill-color);\n",
              "      border-right-color: var(--fill-color);\n",
              "    }\n",
              "    40% {\n",
              "      border-color: transparent;\n",
              "      border-right-color: var(--fill-color);\n",
              "      border-top-color: var(--fill-color);\n",
              "    }\n",
              "    60% {\n",
              "      border-color: transparent;\n",
              "      border-right-color: var(--fill-color);\n",
              "    }\n",
              "    80% {\n",
              "      border-color: transparent;\n",
              "      border-right-color: var(--fill-color);\n",
              "      border-bottom-color: var(--fill-color);\n",
              "    }\n",
              "    90% {\n",
              "      border-color: transparent;\n",
              "      border-bottom-color: var(--fill-color);\n",
              "    }\n",
              "  }\n",
              "</style>\n",
              "\n",
              "  <script>\n",
              "    async function quickchart(key) {\n",
              "      const quickchartButtonEl =\n",
              "        document.querySelector('#' + key + ' button');\n",
              "      quickchartButtonEl.disabled = true;  // To prevent multiple clicks.\n",
              "      quickchartButtonEl.classList.add('colab-df-spinner');\n",
              "      try {\n",
              "        const charts = await google.colab.kernel.invokeFunction(\n",
              "            'suggestCharts', [key], {});\n",
              "      } catch (error) {\n",
              "        console.error('Error during call to suggestCharts:', error);\n",
              "      }\n",
              "      quickchartButtonEl.classList.remove('colab-df-spinner');\n",
              "      quickchartButtonEl.classList.add('colab-df-quickchart-complete');\n",
              "    }\n",
              "    (() => {\n",
              "      let quickchartButtonEl =\n",
              "        document.querySelector('#df-1198a4b8-8164-4fcc-9489-221c7781fcbb button');\n",
              "      quickchartButtonEl.style.display =\n",
              "        google.colab.kernel.accessAllowed ? 'block' : 'none';\n",
              "    })();\n",
              "  </script>\n",
              "</div>\n",
              "    </div>\n",
              "  </div>\n"
            ],
            "application/vnd.google.colaboratory.intrinsic+json": {
              "type": "dataframe",
              "variable_name": "df",
              "summary": "{\n  \"name\": \"df\",\n  \"rows\": 500,\n  \"fields\": [\n    {\n      \"column\": \"publication_code\",\n      \"properties\": {\n        \"dtype\": \"number\",\n        \"std\": 192,\n        \"min\": 2249,\n        \"max\": 3408,\n        \"num_unique_values\": 73,\n        \"samples\": [\n          2597,\n          2619,\n          2979\n        ],\n        \"semantic_type\": \"\",\n        \"description\": \"\"\n      }\n    },\n    {\n      \"column\": \"issue_id\",\n      \"properties\": {\n        \"dtype\": \"number\",\n        \"std\": 340,\n        \"min\": 101,\n        \"max\": 1230,\n        \"num_unique_values\": 269,\n        \"samples\": [\n          1123,\n          328,\n          415\n        ],\n        \"semantic_type\": \"\",\n        \"description\": \"\"\n      }\n    },\n    {\n      \"column\": \"item_id\",\n      \"properties\": {\n        \"dtype\": \"category\",\n        \"num_unique_values\": 160,\n        \"samples\": [\n          \"art0102\",\n          \"art0057\",\n          \"art0130\"\n        ],\n        \"semantic_type\": \"\",\n        \"description\": \"\"\n      }\n    },\n    {\n      \"column\": \"newspaper_title\",\n      \"properties\": {\n        \"dtype\": \"category\",\n        \"num_unique_values\": 73,\n        \"samples\": [\n          \"The Warrington Examiner.\",\n          \"Denton Examiner, Audenshaw, Hooley Hill and Dukinfield Advertiser.\",\n          \"The Northern News.\"\n        ],\n        \"semantic_type\": \"\",\n        \"description\": \"\"\n      }\n    },\n    {\n      \"column\": \"data_provider\",\n      \"properties\": {\n        \"dtype\": \"category\",\n        \"num_unique_values\": 2,\n        \"samples\": [\n          \"British Library Living with Machines Project\",\n          \"British Library Heritage Made Digital Newspapers\"\n        ],\n        \"semantic_type\": \"\",\n        \"description\": \"\"\n      }\n    },\n    {\n      \"column\": \"date\",\n      \"properties\": {\n        \"dtype\": \"object\",\n        \"num_unique_values\": 481,\n        \"samples\": [\n          \"1889-10-16\",\n          \"1916-02-05\"\n        ],\n        \"semantic_type\": \"\",\n        \"description\": \"\"\n      }\n    },\n    {\n      \"column\": \"year\",\n      \"properties\": {\n        \"dtype\": \"number\",\n        \"std\": 15,\n        \"min\": 1845,\n        \"max\": 1920,\n        \"num_unique_values\": 72,\n        \"samples\": [\n          1893,\n          1905\n        ],\n        \"semantic_type\": \"\",\n        \"description\": \"\"\n      }\n    },\n    {\n      \"column\": \"month\",\n      \"properties\": {\n        \"dtype\": \"number\",\n        \"std\": 3,\n        \"min\": 1,\n        \"max\": 12,\n        \"num_unique_values\": 12,\n        \"samples\": [\n          2,\n          5\n        ],\n        \"semantic_type\": \"\",\n        \"description\": \"\"\n      }\n    },\n    {\n      \"column\": \"day\",\n      \"properties\": {\n        \"dtype\": \"number\",\n        \"std\": 8,\n        \"min\": 1,\n        \"max\": 31,\n        \"num_unique_values\": 31,\n        \"samples\": [\n          25,\n          3\n        ],\n        \"semantic_type\": \"\",\n        \"description\": \"\"\n      }\n    },\n    {\n      \"column\": \"location\",\n      \"properties\": {\n        \"dtype\": \"category\",\n        \"num_unique_values\": 47,\n        \"samples\": [\n          \"Brighouse, West Yorkshire, England\",\n          \"Dewsbury, West Yorkshire, England\"\n        ],\n        \"semantic_type\": \"\",\n        \"description\": \"\"\n      }\n    },\n    {\n      \"column\": \"word_count\",\n      \"properties\": {\n        \"dtype\": \"number\",\n        \"std\": 892,\n        \"min\": 0,\n        \"max\": 6127,\n        \"num_unique_values\": 346,\n        \"samples\": [\n          970,\n          3004\n        ],\n        \"semantic_type\": \"\",\n        \"description\": \"\"\n      }\n    },\n    {\n      \"column\": \"ocrquality\",\n      \"properties\": {\n        \"dtype\": \"number\",\n        \"std\": 0.1559452514514646,\n        \"min\": 0.0,\n        \"max\": 1.0,\n        \"num_unique_values\": 449,\n        \"samples\": [\n          0.7861,\n          0.8926\n        ],\n        \"semantic_type\": \"\",\n        \"description\": \"\"\n      }\n    },\n    {\n      \"column\": \"political_leaning_label\",\n      \"properties\": {\n        \"dtype\": \"category\",\n        \"num_unique_values\": 8,\n        \"samples\": [\n          \"independent\",\n          \"unionist\"\n        ],\n        \"semantic_type\": \"\",\n        \"description\": \"\"\n      }\n    },\n    {\n      \"column\": \"price_label\",\n      \"properties\": {\n        \"dtype\": \"category\",\n        \"num_unique_values\": 15,\n        \"samples\": [\n          \"3 \\u00bd d<SEP>1d\",\n          \"4 \\u00bd d\"\n        ],\n        \"semantic_type\": \"\",\n        \"description\": \"\"\n      }\n    },\n    {\n      \"column\": \"text\",\n      \"properties\": {\n        \"dtype\": \"string\",\n        \"num_unique_values\": 493,\n        \"samples\": [\n          \"NORTHERN WEEKLY GAZETTE: \",\n          \"BIRTHS.  May 23, at 3, Lower Trafalgar.terrace, Swansea, the wife of raptsin W. H. Smith. of a daughter. May 25, nt 6. Cantl,--quare, Swansea. the wife of Mr. T. F. Mathews, of a daughter. May 23. at Preset,.lra. Heath, the wife of Captain Herrick Palmer. of a eon. May 19, at 14, Victoria-terrace, Heath. the wife ef Mr. H. B. Thomas, of a son.  MARRIAGES. May 22, at qt Mary's Church, Swansea (by license), Mr Robert Tucker, of London, to Miss Thomas, of th Red House. St Thomas. Swansea. May 26, at the same church, by the RAY E. B Squire, vicar, William Francis. mariner, to Mary Williams, both of Swansea. At the ,ame time and place, and by the same clergy man. David Barnett, mariner, to Ann Davies, both of 114;h\\u2014street, Swansea. At the same timeand place. Thomas Russell. mariner, to Caroline Bode, both of Bethesda-terrace. Swansea. MI 21, as the Pariah Church. Chittlehampon. by th. Re\\u2022 C. M. Drake. vicar, Mr John Mules, former, of Southmelton, to Marv. youngest d ,nghter of Mr William Rees, late of Park-stre\\u2022 t. q warms May IS, at Resolven Church, by the Rev G. Griffiths, vicrtr. Mr Llewellyn Powell. of Argoed, to Miss Ann Jtnkins. of Forchgoch farm, Raengwrach. May 18 (by license) at Taibach Chapel of Ease, by the Rev E. Phillips. curate of Montana, Mr John Courtis DIVIC.I, son of the late Mr Thomas Davies, of Westfield House, Aberavon, to Miss Marg tret Meyrck, of Tat)), ch. \"\n        ],\n        \"semantic_type\": \"\",\n        \"description\": \"\"\n      }\n    }\n  ]\n}"
            }
          },
          "metadata": {},
          "execution_count": 7
        }
      ]
    },
    {
      "cell_type": "code",
      "source": [
        "df = df[df.word_count.between(10,250)].reset_index()\n",
        "df.shape"
      ],
      "metadata": {
        "colab": {
          "base_uri": "https://localhost:8080/"
        },
        "id": "gaf2ZEPWpkdu",
        "outputId": "0dad35c0-f884-427f-8eda-dfe688104ddf"
      },
      "execution_count": null,
      "outputs": [
        {
          "output_type": "execute_result",
          "data": {
            "text/plain": [
              "(212, 16)"
            ]
          },
          "metadata": {},
          "execution_count": 8
        }
      ]
    },
    {
      "cell_type": "code",
      "source": [
        "# make an account on hugging face https://huggingface.co/\n",
        "# go to https://huggingface.co/meta-llama/Meta-Llama-3-8B\n",
        "# and accept the licence. it may take a few minutes to get a reply!"
      ],
      "metadata": {
        "id": "UyYhfndhbBSr"
      },
      "execution_count": null,
      "outputs": []
    },
    {
      "cell_type": "code",
      "source": [
        "!huggingface-cli login"
      ],
      "metadata": {
        "colab": {
          "base_uri": "https://localhost:8080/"
        },
        "id": "ZnTdsILcavow",
        "outputId": "ead91adf-7397-40b4-a3c2-ac82986ba3be"
      },
      "execution_count": null,
      "outputs": [
        {
          "output_type": "stream",
          "name": "stdout",
          "text": [
            "\n",
            "    _|    _|  _|    _|    _|_|_|    _|_|_|  _|_|_|  _|      _|    _|_|_|      _|_|_|_|    _|_|      _|_|_|  _|_|_|_|\n",
            "    _|    _|  _|    _|  _|        _|          _|    _|_|    _|  _|            _|        _|    _|  _|        _|\n",
            "    _|_|_|_|  _|    _|  _|  _|_|  _|  _|_|    _|    _|  _|  _|  _|  _|_|      _|_|_|    _|_|_|_|  _|        _|_|_|\n",
            "    _|    _|  _|    _|  _|    _|  _|    _|    _|    _|    _|_|  _|    _|      _|        _|    _|  _|        _|\n",
            "    _|    _|    _|_|      _|_|_|    _|_|_|  _|_|_|  _|      _|    _|_|_|      _|        _|    _|    _|_|_|  _|_|_|_|\n",
            "\n",
            "    To login, `huggingface_hub` requires a token generated from https://huggingface.co/settings/tokens .\n",
            "Token: \n",
            "Add token as git credential? (Y/n) n\n",
            "Token is valid (permission: read).\n",
            "Your token has been saved to /root/.cache/huggingface/token\n",
            "Login successful\n"
          ]
        }
      ]
    },
    {
      "cell_type": "code",
      "source": [
        "checkpoint = \"meta-llama/Meta-Llama-3-8B-Instruct\"\n",
        "\n",
        "pipeline = transformers.pipeline(\n",
        "    \"text-generation\",\n",
        "    model=checkpoint,\n",
        "    model_kwargs={\"torch_dtype\": torch.bfloat16},\n",
        "    device=\"cuda\",\n",
        ")\n",
        "\n",
        "terminators = [\n",
        "    pipeline.tokenizer.eos_token_id,\n",
        "    pipeline.tokenizer.convert_tokens_to_ids(\"<|eot_id|>\")\n",
        "]\n"
      ],
      "metadata": {
        "colab": {
          "base_uri": "https://localhost:8080/",
          "height": 67,
          "referenced_widgets": [
            "7ddc2c4bf5c14ad39134c78602faca6e",
            "9a3eefb9ed914edc90608cb2bdfa2e56",
            "3d37aba3d4794d95b737a01b670b1b11",
            "d5fc7ee9caf8451fb36f3e7431ec8726",
            "699701a8633542ae9c6717f2b32dc154",
            "16516278ca2246b6bcfd227174c86e2d",
            "4477f380003248879e0e816c2211d795",
            "225dddec4eae4bcdbbda361fba7652ae",
            "7030843e54614887bee59eac3ea47392",
            "66d5012f308b43d794af6bc182df654a",
            "e2c7553b014f4c2eb0fdf6d9ca55cfa9"
          ]
        },
        "id": "K3dS2EoMTnny",
        "outputId": "a882a909-fe89-4710-eccf-99139ea22522"
      },
      "execution_count": null,
      "outputs": [
        {
          "output_type": "display_data",
          "data": {
            "text/plain": [
              "Loading checkpoint shards:   0%|          | 0/4 [00:00<?, ?it/s]"
            ],
            "application/vnd.jupyter.widget-view+json": {
              "version_major": 2,
              "version_minor": 0,
              "model_id": "7ddc2c4bf5c14ad39134c78602faca6e"
            }
          },
          "metadata": {}
        },
        {
          "output_type": "stream",
          "name": "stderr",
          "text": [
            "Special tokens have been added in the vocabulary, make sure the associated word embeddings are fine-tuned or trained.\n"
          ]
        }
      ]
    },
    {
      "cell_type": "code",
      "source": [
        "messages = [\n",
        "    {\"role\": \"system\", \"content\": \"\"\"\n",
        "    You are an helpful AI that will assist me with analysing and reading newspaper articles.\n",
        "    Read the newspaper articles attentively and extract the required information.\n",
        "    Each newspaper article will be enclosed with triple hash tags (i.e. ###).\n",
        "    Don't make thigs up! If the information is not in the article then just say 'Dunno'\"\"\"},\n",
        "    {\"role\": \"user\", \"content\": f\"\"\"Provide a short description of principal characters portrayed newspaper article?\n",
        "    ###{df.iloc[0].text}###\"\"\"}\n",
        "]\n"
      ],
      "metadata": {
        "id": "AO5PEGlsUukK"
      },
      "execution_count": null,
      "outputs": []
    },
    {
      "cell_type": "code",
      "source": [
        "def get_completion(messages, temperature=.1, top_p=.1):\n",
        "\n",
        "  prompt = pipeline.tokenizer.apply_chat_template(\n",
        "        messages,\n",
        "        tokenize=False,\n",
        "        add_generation_prompt=True\n",
        "      )\n",
        "\n",
        "  outputs = pipeline(\n",
        "    prompt,\n",
        "    max_new_tokens=256,\n",
        "    eos_token_id=terminators,\n",
        "    do_sample=True,\n",
        "    temperature=temperature,\n",
        "    top_p=top_p,\n",
        "      )\n",
        "  return outputs[0][\"generated_text\"][len(prompt):]"
      ],
      "metadata": {
        "id": "-MM2Wlv_Vw3y"
      },
      "execution_count": null,
      "outputs": []
    },
    {
      "cell_type": "code",
      "source": [
        "print(get_completion(messages))"
      ],
      "metadata": {
        "colab": {
          "base_uri": "https://localhost:8080/"
        },
        "id": "RxUuvcWLTjoZ",
        "outputId": "cab8f246-082b-421b-cdce-ecb50e12e436"
      },
      "execution_count": null,
      "outputs": [
        {
          "output_type": "stream",
          "name": "stderr",
          "text": [
            "Setting `pad_token_id` to `eos_token_id`:128009 for open-end generation.\n"
          ]
        },
        {
          "output_type": "stream",
          "name": "stdout",
          "text": [
            "Here is a short description of the principal characters portrayed in the newspaper article:\n",
            "\n",
            "1. The mate of the steam tug \"Earl of Glamorgan\" - The unfortunate man who drowned in the Severn a few days ago and is the subject of the article.\n",
            "2. The parish undertaker - The person responsible for arranging the funeral and burial of the deceased.\n",
            "3. The brother of the deceased - The person who is disputing the expense of the funeral and burial and is refusing to release the body until his claims are met.\n"
          ]
        }
      ]
    },
    {
      "cell_type": "markdown",
      "source": [
        "## Exercise\n",
        "\n",
        "- Change the system message and ask the model to reply in Swiss-German\n",
        "- Change the user message and ask the model to summarize the article and condense it to one sentence"
      ],
      "metadata": {
        "id": "SML4OsbfXIk8"
      }
    },
    {
      "cell_type": "code",
      "source": [
        "messages = [\n",
        "    {\"role\": \"system\", \"content\": \"\"\"\n",
        "    You are an helpful AI that will assist me with analysing and reading newspaper articles.\n",
        "    Read the newspaper articles attentively and extract the required information.\n",
        "    Each newspaper article will be enclosed with triple hash tags (i.e. ###).\n",
        "    Don't make thigs up! Answer in Swiss-German!\"\"\"},\n",
        "    {\"role\": \"user\", \"content\": f\"\"\"Provide a short description of principal characters portrayed newspaper article?\n",
        "    ###{df.iloc[0].text}###\"\"\"}\n",
        "]\n",
        "\n",
        "print(get_completion(messages))\n"
      ],
      "metadata": {
        "colab": {
          "base_uri": "https://localhost:8080/"
        },
        "id": "am1Ge38tXGP-",
        "outputId": "494c35ad-e2f8-448d-974f-28937b31334a"
      },
      "execution_count": null,
      "outputs": [
        {
          "output_type": "stream",
          "name": "stderr",
          "text": [
            "Setting `pad_token_id` to `eos_token_id`:128009 for open-end generation.\n"
          ]
        },
        {
          "output_type": "stream",
          "name": "stdout",
          "text": [
            "Ja, wat a seltsame Geschichte! (What a strange story!) Let me tell you about de principal characters:\n",
            "\n",
            "* De unfortunate mate of de steam tug Earl of Glamorgan, who got drowned in de Severn a few days ago. He's de one who's gettin' buried, but his identity wasn't known at first.\n",
            "* De parish undertaker, who got de order to make a parish coffin for de mate. He's de one who's responsible for de funeral arrangements.\n",
            "* De brother of de deceased, who's gettin' all upset about de expensive coffin and wants to know who's gonna pay for it.\n",
            "* De coroner, who's tryin' to mediate de situation but seems to be powerless.\n",
            "\n",
            "So, it's a story about a funeral gone wrong, with some drama and conflict between de undertaker, de brother, and de coroner.\n"
          ]
        }
      ]
    },
    {
      "cell_type": "code",
      "source": [
        "messages = [\n",
        "    {\"role\": \"system\", \"content\": \"\"\"\n",
        "    You are an helpful AI that will assist me with analysing and reading newspaper articles.\n",
        "    Read the newspaper articles attentively and extract the required information.\n",
        "    Each newspaper article will be enclosed with triple hash tags (i.e. ###).\n",
        "    Don't make thigs up! If the information is not in the article then just say 'Dunno'\"\"\"},\n",
        "    {\"role\": \"user\", \"content\": f\"\"\"Summarize the article content in one sentence.\n",
        "    ###{df.iloc[0].text}###\"\"\"}\n",
        "]\n",
        "\n",
        "print(get_completion(messages))"
      ],
      "metadata": {
        "colab": {
          "base_uri": "https://localhost:8080/"
        },
        "id": "pBMVp1OQXg3z",
        "outputId": "a1868768-35c3-4b93-dab2-b2f263acae8e"
      },
      "execution_count": null,
      "outputs": [
        {
          "output_type": "stream",
          "name": "stderr",
          "text": [
            "Setting `pad_token_id` to `eos_token_id`:128009 for open-end generation.\n"
          ]
        },
        {
          "output_type": "stream",
          "name": "stdout",
          "text": [
            "A body believed to be the mate of the steam tug Earl of Glamorgan, who drowned in the Severn, was initially intended for a parish coffin but was instead given a more expensive one, leading to a dispute over who should pay for the funeral.\n"
          ]
        }
      ]
    },
    {
      "cell_type": "markdown",
      "source": [
        "## Example: Summarization"
      ],
      "metadata": {
        "id": "gNcYq_a-beX1"
      }
    },
    {
      "cell_type": "code",
      "source": [
        "df_small = df.sample(5, random_state=1984).reset_index(drop=True)\n",
        "df_small"
      ],
      "metadata": {
        "colab": {
          "base_uri": "https://localhost:8080/",
          "height": 591
        },
        "id": "Cw-N3XoUkRfu",
        "outputId": "c0da56c9-7874-4e15-ea69-22b8535a4270"
      },
      "execution_count": null,
      "outputs": [
        {
          "output_type": "execute_result",
          "data": {
            "text/plain": [
              "   index  publication_code  issue_id  item_id  \\\n",
              "0    209              3077       512  art0058   \n",
              "1    352              3040      1210  art0150   \n",
              "2    227              3089       426  art0036   \n",
              "3    293              2974       312  art0014   \n",
              "4    449              3074       818  art0103   \n",
              "\n",
              "                                     newspaper_title  \\\n",
              "0  Nelson Chronicle, Colne Observer, and Clithero...   \n",
              "1  The Birkenhead News and Wirral General Adverti...   \n",
              "2                                   Glasgow Courier.   \n",
              "3  The Stourbridge Observer, Cradley Heath, Hales...   \n",
              "4                  The North-Eastern Weekly Gazette.   \n",
              "\n",
              "                                  data_provider        date  year  month  day  \\\n",
              "0  British Library Living with Machines Project  1899-05-12  1899      5   12   \n",
              "1  British Library Living with Machines Project  1910-12-10  1910     12   10   \n",
              "2  British Library Living with Machines Project  1855-04-26  1855      4   26   \n",
              "3  British Library Living with Machines Project  1887-03-12  1887      3   12   \n",
              "4  British Library Living with Machines Project  1894-08-18  1894      8   18   \n",
              "\n",
              "                               location  word_count  ocrquality  \\\n",
              "0           Nelson, Lancashire, England         160      0.9748   \n",
              "1       Birkenhead, Merseyside, England         105      0.8768   \n",
              "2        Glasgow, Strathclyde, Scotland          97      0.9647   \n",
              "3   Stourbridge, West Midlands, England          13      0.7369   \n",
              "4  Stockton-on-Tees, Cleveland, England         139      0.8834   \n",
              "\n",
              "  political_leaning_label      price_label  \\\n",
              "0                 liberal               1d   \n",
              "1            conservative       ½ d<SEP>1d   \n",
              "2            conservative  3 ½ d<SEP>4 ½ d   \n",
              "3                     NaN              NaN   \n",
              "4                 liberal              ½ d   \n",
              "\n",
              "                                                text  \n",
              "0  NEW FASHIONS.  BELL (V, SON,  28 & 30, MANCHES...  \n",
              "1  LOANS To THE COUNCIL.  At a meeting of the Liv...  \n",
              "2  J. K. DONALD & W. NEVILLE  B- • - • ---EG to i...  \n",
              "3  TOBACCOS,  AT TEX  OLE ESTABLISH EI) S ITO FIE...  \n",
              "4  IT OF CHILDREN  YOLIFFE.  ice Court on Tuesday...  "
            ],
            "text/html": [
              "\n",
              "  <div id=\"df-418adb76-d4c1-40b8-8670-6c085f35d9a0\" class=\"colab-df-container\">\n",
              "    <div>\n",
              "<style scoped>\n",
              "    .dataframe tbody tr th:only-of-type {\n",
              "        vertical-align: middle;\n",
              "    }\n",
              "\n",
              "    .dataframe tbody tr th {\n",
              "        vertical-align: top;\n",
              "    }\n",
              "\n",
              "    .dataframe thead th {\n",
              "        text-align: right;\n",
              "    }\n",
              "</style>\n",
              "<table border=\"1\" class=\"dataframe\">\n",
              "  <thead>\n",
              "    <tr style=\"text-align: right;\">\n",
              "      <th></th>\n",
              "      <th>index</th>\n",
              "      <th>publication_code</th>\n",
              "      <th>issue_id</th>\n",
              "      <th>item_id</th>\n",
              "      <th>newspaper_title</th>\n",
              "      <th>data_provider</th>\n",
              "      <th>date</th>\n",
              "      <th>year</th>\n",
              "      <th>month</th>\n",
              "      <th>day</th>\n",
              "      <th>location</th>\n",
              "      <th>word_count</th>\n",
              "      <th>ocrquality</th>\n",
              "      <th>political_leaning_label</th>\n",
              "      <th>price_label</th>\n",
              "      <th>text</th>\n",
              "    </tr>\n",
              "  </thead>\n",
              "  <tbody>\n",
              "    <tr>\n",
              "      <th>0</th>\n",
              "      <td>209</td>\n",
              "      <td>3077</td>\n",
              "      <td>512</td>\n",
              "      <td>art0058</td>\n",
              "      <td>Nelson Chronicle, Colne Observer, and Clithero...</td>\n",
              "      <td>British Library Living with Machines Project</td>\n",
              "      <td>1899-05-12</td>\n",
              "      <td>1899</td>\n",
              "      <td>5</td>\n",
              "      <td>12</td>\n",
              "      <td>Nelson, Lancashire, England</td>\n",
              "      <td>160</td>\n",
              "      <td>0.9748</td>\n",
              "      <td>liberal</td>\n",
              "      <td>1d</td>\n",
              "      <td>NEW FASHIONS.  BELL (V, SON,  28 &amp; 30, MANCHES...</td>\n",
              "    </tr>\n",
              "    <tr>\n",
              "      <th>1</th>\n",
              "      <td>352</td>\n",
              "      <td>3040</td>\n",
              "      <td>1210</td>\n",
              "      <td>art0150</td>\n",
              "      <td>The Birkenhead News and Wirral General Adverti...</td>\n",
              "      <td>British Library Living with Machines Project</td>\n",
              "      <td>1910-12-10</td>\n",
              "      <td>1910</td>\n",
              "      <td>12</td>\n",
              "      <td>10</td>\n",
              "      <td>Birkenhead, Merseyside, England</td>\n",
              "      <td>105</td>\n",
              "      <td>0.8768</td>\n",
              "      <td>conservative</td>\n",
              "      <td>½ d&lt;SEP&gt;1d</td>\n",
              "      <td>LOANS To THE COUNCIL.  At a meeting of the Liv...</td>\n",
              "    </tr>\n",
              "    <tr>\n",
              "      <th>2</th>\n",
              "      <td>227</td>\n",
              "      <td>3089</td>\n",
              "      <td>426</td>\n",
              "      <td>art0036</td>\n",
              "      <td>Glasgow Courier.</td>\n",
              "      <td>British Library Living with Machines Project</td>\n",
              "      <td>1855-04-26</td>\n",
              "      <td>1855</td>\n",
              "      <td>4</td>\n",
              "      <td>26</td>\n",
              "      <td>Glasgow, Strathclyde, Scotland</td>\n",
              "      <td>97</td>\n",
              "      <td>0.9647</td>\n",
              "      <td>conservative</td>\n",
              "      <td>3 ½ d&lt;SEP&gt;4 ½ d</td>\n",
              "      <td>J. K. DONALD &amp; W. NEVILLE  B- • - • ---EG to i...</td>\n",
              "    </tr>\n",
              "    <tr>\n",
              "      <th>3</th>\n",
              "      <td>293</td>\n",
              "      <td>2974</td>\n",
              "      <td>312</td>\n",
              "      <td>art0014</td>\n",
              "      <td>The Stourbridge Observer, Cradley Heath, Hales...</td>\n",
              "      <td>British Library Living with Machines Project</td>\n",
              "      <td>1887-03-12</td>\n",
              "      <td>1887</td>\n",
              "      <td>3</td>\n",
              "      <td>12</td>\n",
              "      <td>Stourbridge, West Midlands, England</td>\n",
              "      <td>13</td>\n",
              "      <td>0.7369</td>\n",
              "      <td>NaN</td>\n",
              "      <td>NaN</td>\n",
              "      <td>TOBACCOS,  AT TEX  OLE ESTABLISH EI) S ITO FIE...</td>\n",
              "    </tr>\n",
              "    <tr>\n",
              "      <th>4</th>\n",
              "      <td>449</td>\n",
              "      <td>3074</td>\n",
              "      <td>818</td>\n",
              "      <td>art0103</td>\n",
              "      <td>The North-Eastern Weekly Gazette.</td>\n",
              "      <td>British Library Living with Machines Project</td>\n",
              "      <td>1894-08-18</td>\n",
              "      <td>1894</td>\n",
              "      <td>8</td>\n",
              "      <td>18</td>\n",
              "      <td>Stockton-on-Tees, Cleveland, England</td>\n",
              "      <td>139</td>\n",
              "      <td>0.8834</td>\n",
              "      <td>liberal</td>\n",
              "      <td>½ d</td>\n",
              "      <td>IT OF CHILDREN  YOLIFFE.  ice Court on Tuesday...</td>\n",
              "    </tr>\n",
              "  </tbody>\n",
              "</table>\n",
              "</div>\n",
              "    <div class=\"colab-df-buttons\">\n",
              "\n",
              "  <div class=\"colab-df-container\">\n",
              "    <button class=\"colab-df-convert\" onclick=\"convertToInteractive('df-418adb76-d4c1-40b8-8670-6c085f35d9a0')\"\n",
              "            title=\"Convert this dataframe to an interactive table.\"\n",
              "            style=\"display:none;\">\n",
              "\n",
              "  <svg xmlns=\"http://www.w3.org/2000/svg\" height=\"24px\" viewBox=\"0 -960 960 960\">\n",
              "    <path d=\"M120-120v-720h720v720H120Zm60-500h600v-160H180v160Zm220 220h160v-160H400v160Zm0 220h160v-160H400v160ZM180-400h160v-160H180v160Zm440 0h160v-160H620v160ZM180-180h160v-160H180v160Zm440 0h160v-160H620v160Z\"/>\n",
              "  </svg>\n",
              "    </button>\n",
              "\n",
              "  <style>\n",
              "    .colab-df-container {\n",
              "      display:flex;\n",
              "      gap: 12px;\n",
              "    }\n",
              "\n",
              "    .colab-df-convert {\n",
              "      background-color: #E8F0FE;\n",
              "      border: none;\n",
              "      border-radius: 50%;\n",
              "      cursor: pointer;\n",
              "      display: none;\n",
              "      fill: #1967D2;\n",
              "      height: 32px;\n",
              "      padding: 0 0 0 0;\n",
              "      width: 32px;\n",
              "    }\n",
              "\n",
              "    .colab-df-convert:hover {\n",
              "      background-color: #E2EBFA;\n",
              "      box-shadow: 0px 1px 2px rgba(60, 64, 67, 0.3), 0px 1px 3px 1px rgba(60, 64, 67, 0.15);\n",
              "      fill: #174EA6;\n",
              "    }\n",
              "\n",
              "    .colab-df-buttons div {\n",
              "      margin-bottom: 4px;\n",
              "    }\n",
              "\n",
              "    [theme=dark] .colab-df-convert {\n",
              "      background-color: #3B4455;\n",
              "      fill: #D2E3FC;\n",
              "    }\n",
              "\n",
              "    [theme=dark] .colab-df-convert:hover {\n",
              "      background-color: #434B5C;\n",
              "      box-shadow: 0px 1px 3px 1px rgba(0, 0, 0, 0.15);\n",
              "      filter: drop-shadow(0px 1px 2px rgba(0, 0, 0, 0.3));\n",
              "      fill: #FFFFFF;\n",
              "    }\n",
              "  </style>\n",
              "\n",
              "    <script>\n",
              "      const buttonEl =\n",
              "        document.querySelector('#df-418adb76-d4c1-40b8-8670-6c085f35d9a0 button.colab-df-convert');\n",
              "      buttonEl.style.display =\n",
              "        google.colab.kernel.accessAllowed ? 'block' : 'none';\n",
              "\n",
              "      async function convertToInteractive(key) {\n",
              "        const element = document.querySelector('#df-418adb76-d4c1-40b8-8670-6c085f35d9a0');\n",
              "        const dataTable =\n",
              "          await google.colab.kernel.invokeFunction('convertToInteractive',\n",
              "                                                    [key], {});\n",
              "        if (!dataTable) return;\n",
              "\n",
              "        const docLinkHtml = 'Like what you see? Visit the ' +\n",
              "          '<a target=\"_blank\" href=https://colab.research.google.com/notebooks/data_table.ipynb>data table notebook</a>'\n",
              "          + ' to learn more about interactive tables.';\n",
              "        element.innerHTML = '';\n",
              "        dataTable['output_type'] = 'display_data';\n",
              "        await google.colab.output.renderOutput(dataTable, element);\n",
              "        const docLink = document.createElement('div');\n",
              "        docLink.innerHTML = docLinkHtml;\n",
              "        element.appendChild(docLink);\n",
              "      }\n",
              "    </script>\n",
              "  </div>\n",
              "\n",
              "\n",
              "<div id=\"df-c97afb4e-dc35-418c-b452-198733f9e49e\">\n",
              "  <button class=\"colab-df-quickchart\" onclick=\"quickchart('df-c97afb4e-dc35-418c-b452-198733f9e49e')\"\n",
              "            title=\"Suggest charts\"\n",
              "            style=\"display:none;\">\n",
              "\n",
              "<svg xmlns=\"http://www.w3.org/2000/svg\" height=\"24px\"viewBox=\"0 0 24 24\"\n",
              "     width=\"24px\">\n",
              "    <g>\n",
              "        <path d=\"M19 3H5c-1.1 0-2 .9-2 2v14c0 1.1.9 2 2 2h14c1.1 0 2-.9 2-2V5c0-1.1-.9-2-2-2zM9 17H7v-7h2v7zm4 0h-2V7h2v10zm4 0h-2v-4h2v4z\"/>\n",
              "    </g>\n",
              "</svg>\n",
              "  </button>\n",
              "\n",
              "<style>\n",
              "  .colab-df-quickchart {\n",
              "      --bg-color: #E8F0FE;\n",
              "      --fill-color: #1967D2;\n",
              "      --hover-bg-color: #E2EBFA;\n",
              "      --hover-fill-color: #174EA6;\n",
              "      --disabled-fill-color: #AAA;\n",
              "      --disabled-bg-color: #DDD;\n",
              "  }\n",
              "\n",
              "  [theme=dark] .colab-df-quickchart {\n",
              "      --bg-color: #3B4455;\n",
              "      --fill-color: #D2E3FC;\n",
              "      --hover-bg-color: #434B5C;\n",
              "      --hover-fill-color: #FFFFFF;\n",
              "      --disabled-bg-color: #3B4455;\n",
              "      --disabled-fill-color: #666;\n",
              "  }\n",
              "\n",
              "  .colab-df-quickchart {\n",
              "    background-color: var(--bg-color);\n",
              "    border: none;\n",
              "    border-radius: 50%;\n",
              "    cursor: pointer;\n",
              "    display: none;\n",
              "    fill: var(--fill-color);\n",
              "    height: 32px;\n",
              "    padding: 0;\n",
              "    width: 32px;\n",
              "  }\n",
              "\n",
              "  .colab-df-quickchart:hover {\n",
              "    background-color: var(--hover-bg-color);\n",
              "    box-shadow: 0 1px 2px rgba(60, 64, 67, 0.3), 0 1px 3px 1px rgba(60, 64, 67, 0.15);\n",
              "    fill: var(--button-hover-fill-color);\n",
              "  }\n",
              "\n",
              "  .colab-df-quickchart-complete:disabled,\n",
              "  .colab-df-quickchart-complete:disabled:hover {\n",
              "    background-color: var(--disabled-bg-color);\n",
              "    fill: var(--disabled-fill-color);\n",
              "    box-shadow: none;\n",
              "  }\n",
              "\n",
              "  .colab-df-spinner {\n",
              "    border: 2px solid var(--fill-color);\n",
              "    border-color: transparent;\n",
              "    border-bottom-color: var(--fill-color);\n",
              "    animation:\n",
              "      spin 1s steps(1) infinite;\n",
              "  }\n",
              "\n",
              "  @keyframes spin {\n",
              "    0% {\n",
              "      border-color: transparent;\n",
              "      border-bottom-color: var(--fill-color);\n",
              "      border-left-color: var(--fill-color);\n",
              "    }\n",
              "    20% {\n",
              "      border-color: transparent;\n",
              "      border-left-color: var(--fill-color);\n",
              "      border-top-color: var(--fill-color);\n",
              "    }\n",
              "    30% {\n",
              "      border-color: transparent;\n",
              "      border-left-color: var(--fill-color);\n",
              "      border-top-color: var(--fill-color);\n",
              "      border-right-color: var(--fill-color);\n",
              "    }\n",
              "    40% {\n",
              "      border-color: transparent;\n",
              "      border-right-color: var(--fill-color);\n",
              "      border-top-color: var(--fill-color);\n",
              "    }\n",
              "    60% {\n",
              "      border-color: transparent;\n",
              "      border-right-color: var(--fill-color);\n",
              "    }\n",
              "    80% {\n",
              "      border-color: transparent;\n",
              "      border-right-color: var(--fill-color);\n",
              "      border-bottom-color: var(--fill-color);\n",
              "    }\n",
              "    90% {\n",
              "      border-color: transparent;\n",
              "      border-bottom-color: var(--fill-color);\n",
              "    }\n",
              "  }\n",
              "</style>\n",
              "\n",
              "  <script>\n",
              "    async function quickchart(key) {\n",
              "      const quickchartButtonEl =\n",
              "        document.querySelector('#' + key + ' button');\n",
              "      quickchartButtonEl.disabled = true;  // To prevent multiple clicks.\n",
              "      quickchartButtonEl.classList.add('colab-df-spinner');\n",
              "      try {\n",
              "        const charts = await google.colab.kernel.invokeFunction(\n",
              "            'suggestCharts', [key], {});\n",
              "      } catch (error) {\n",
              "        console.error('Error during call to suggestCharts:', error);\n",
              "      }\n",
              "      quickchartButtonEl.classList.remove('colab-df-spinner');\n",
              "      quickchartButtonEl.classList.add('colab-df-quickchart-complete');\n",
              "    }\n",
              "    (() => {\n",
              "      let quickchartButtonEl =\n",
              "        document.querySelector('#df-c97afb4e-dc35-418c-b452-198733f9e49e button');\n",
              "      quickchartButtonEl.style.display =\n",
              "        google.colab.kernel.accessAllowed ? 'block' : 'none';\n",
              "    })();\n",
              "  </script>\n",
              "</div>\n",
              "    </div>\n",
              "  </div>\n"
            ],
            "application/vnd.google.colaboratory.intrinsic+json": {
              "type": "dataframe",
              "variable_name": "df_small",
              "summary": "{\n  \"name\": \"df_small\",\n  \"rows\": 5,\n  \"fields\": [\n    {\n      \"column\": \"index\",\n      \"properties\": {\n        \"dtype\": \"number\",\n        \"std\": 97,\n        \"min\": 209,\n        \"max\": 449,\n        \"num_unique_values\": 5,\n        \"samples\": [\n          352,\n          449,\n          227\n        ],\n        \"semantic_type\": \"\",\n        \"description\": \"\"\n      }\n    },\n    {\n      \"column\": \"publication_code\",\n      \"properties\": {\n        \"dtype\": \"number\",\n        \"std\": 46,\n        \"min\": 2974,\n        \"max\": 3089,\n        \"num_unique_values\": 5,\n        \"samples\": [\n          3040,\n          3074,\n          3089\n        ],\n        \"semantic_type\": \"\",\n        \"description\": \"\"\n      }\n    },\n    {\n      \"column\": \"issue_id\",\n      \"properties\": {\n        \"dtype\": \"number\",\n        \"std\": 362,\n        \"min\": 312,\n        \"max\": 1210,\n        \"num_unique_values\": 5,\n        \"samples\": [\n          1210,\n          818,\n          426\n        ],\n        \"semantic_type\": \"\",\n        \"description\": \"\"\n      }\n    },\n    {\n      \"column\": \"item_id\",\n      \"properties\": {\n        \"dtype\": \"string\",\n        \"num_unique_values\": 5,\n        \"samples\": [\n          \"art0150\",\n          \"art0103\",\n          \"art0036\"\n        ],\n        \"semantic_type\": \"\",\n        \"description\": \"\"\n      }\n    },\n    {\n      \"column\": \"newspaper_title\",\n      \"properties\": {\n        \"dtype\": \"string\",\n        \"num_unique_values\": 5,\n        \"samples\": [\n          \"The Birkenhead News and Wirral General Advertiser.\",\n          \"The North-Eastern Weekly Gazette.\",\n          \"Glasgow Courier.\"\n        ],\n        \"semantic_type\": \"\",\n        \"description\": \"\"\n      }\n    },\n    {\n      \"column\": \"data_provider\",\n      \"properties\": {\n        \"dtype\": \"category\",\n        \"num_unique_values\": 1,\n        \"samples\": [\n          \"British Library Living with Machines Project\"\n        ],\n        \"semantic_type\": \"\",\n        \"description\": \"\"\n      }\n    },\n    {\n      \"column\": \"date\",\n      \"properties\": {\n        \"dtype\": \"object\",\n        \"num_unique_values\": 5,\n        \"samples\": [\n          \"1910-12-10\"\n        ],\n        \"semantic_type\": \"\",\n        \"description\": \"\"\n      }\n    },\n    {\n      \"column\": \"year\",\n      \"properties\": {\n        \"dtype\": \"number\",\n        \"std\": 20,\n        \"min\": 1855,\n        \"max\": 1910,\n        \"num_unique_values\": 5,\n        \"samples\": [\n          1910\n        ],\n        \"semantic_type\": \"\",\n        \"description\": \"\"\n      }\n    },\n    {\n      \"column\": \"month\",\n      \"properties\": {\n        \"dtype\": \"number\",\n        \"std\": 3,\n        \"min\": 3,\n        \"max\": 12,\n        \"num_unique_values\": 5,\n        \"samples\": [\n          12\n        ],\n        \"semantic_type\": \"\",\n        \"description\": \"\"\n      }\n    },\n    {\n      \"column\": \"day\",\n      \"properties\": {\n        \"dtype\": \"number\",\n        \"std\": 6,\n        \"min\": 10,\n        \"max\": 26,\n        \"num_unique_values\": 4,\n        \"samples\": [\n          10\n        ],\n        \"semantic_type\": \"\",\n        \"description\": \"\"\n      }\n    },\n    {\n      \"column\": \"location\",\n      \"properties\": {\n        \"dtype\": \"string\",\n        \"num_unique_values\": 5,\n        \"samples\": [\n          \"Birkenhead, Merseyside, England\"\n        ],\n        \"semantic_type\": \"\",\n        \"description\": \"\"\n      }\n    },\n    {\n      \"column\": \"word_count\",\n      \"properties\": {\n        \"dtype\": \"number\",\n        \"std\": 56,\n        \"min\": 13,\n        \"max\": 160,\n        \"num_unique_values\": 5,\n        \"samples\": [\n          105\n        ],\n        \"semantic_type\": \"\",\n        \"description\": \"\"\n      }\n    },\n    {\n      \"column\": \"ocrquality\",\n      \"properties\": {\n        \"dtype\": \"number\",\n        \"std\": 0.09538425970777359,\n        \"min\": 0.7369,\n        \"max\": 0.9748,\n        \"num_unique_values\": 5,\n        \"samples\": [\n          0.8768\n        ],\n        \"semantic_type\": \"\",\n        \"description\": \"\"\n      }\n    },\n    {\n      \"column\": \"political_leaning_label\",\n      \"properties\": {\n        \"dtype\": \"category\",\n        \"num_unique_values\": 2,\n        \"samples\": [\n          \"conservative\"\n        ],\n        \"semantic_type\": \"\",\n        \"description\": \"\"\n      }\n    },\n    {\n      \"column\": \"price_label\",\n      \"properties\": {\n        \"dtype\": \"string\",\n        \"num_unique_values\": 4,\n        \"samples\": [\n          \"\\u00bd d<SEP>1d\"\n        ],\n        \"semantic_type\": \"\",\n        \"description\": \"\"\n      }\n    },\n    {\n      \"column\": \"text\",\n      \"properties\": {\n        \"dtype\": \"string\",\n        \"num_unique_values\": 5,\n        \"samples\": [\n          \"LOANS To THE COUNCIL.  At a meeting of the Livetpoul City Council on NNedneaday a recommendation that \\u00a36,435 be. lent to the Hoylake and IVeist Kirby Diatriet Council at tutere.at at the rate of ..e3 17a. bd. per cent, per annum for varying periuda not exceeding thirty years, repayable by equal annual instalnienta of principal and intereet combined was tonaidered.  Mr. Dart remarked that he wbb gLad they had got 2s. ed. more than on the occasion of the laet loau, and he was burs that if the Finance Committee were a little firmer they would get, at all events, 4 per cent. \"\n        ],\n        \"semantic_type\": \"\",\n        \"description\": \"\"\n      }\n    }\n  ]\n}"
            }
          },
          "metadata": {},
          "execution_count": 68
        }
      ]
    },
    {
      "cell_type": "code",
      "source": [
        "\n",
        "def apply_completions(item, system_message, user_message):\n",
        "  messages = [\n",
        "    {\"role\": \"system\", \"content\": system_message},\n",
        "    {\"role\": \"user\", \"content\": user_message}\n",
        "      ]\n",
        "  messages[1]['content'] += f\"\\n\\n###{item['text']}###\"\n",
        "  return  get_completion(messages)"
      ],
      "metadata": {
        "id": "FJiND9t_dkE0"
      },
      "execution_count": null,
      "outputs": []
    },
    {
      "cell_type": "code",
      "source": [
        "tqdm.pandas()\n",
        "\n",
        "system_message = \"\"\"You are an helpful AI that will assist me with analysing and reading newspaper articles.\n",
        "    Read the newspaper articles attentively and extract the required information.\n",
        "    Each newspaper article will be enclosed with triple hash tags (i.e. ###).\n",
        "    Don't make thigs up! If the information is not in the article then just say 'Dunno'\"\"\"\n",
        "user_message = \"Summarize the article content in one sentence.\"\n",
        "\n",
        "df_small['completion'] =  df_small.progress_apply(apply_completions,system_message=system_message, user_message=user_message, axis=1)\n"
      ],
      "metadata": {
        "colab": {
          "base_uri": "https://localhost:8080/"
        },
        "id": "nUEjoux9Y3ZV",
        "outputId": "2318cd24-a6ec-4951-b667-224a696d6301"
      },
      "execution_count": null,
      "outputs": [
        {
          "output_type": "stream",
          "name": "stderr",
          "text": [
            "Setting `pad_token_id` to `eos_token_id`:128009 for open-end generation.\n",
            "Setting `pad_token_id` to `eos_token_id`:128009 for open-end generation.\n",
            "Setting `pad_token_id` to `eos_token_id`:128009 for open-end generation.\n",
            "Setting `pad_token_id` to `eos_token_id`:128009 for open-end generation.\n",
            "Setting `pad_token_id` to `eos_token_id`:128009 for open-end generation.\n"
          ]
        }
      ]
    },
    {
      "cell_type": "code",
      "source": [
        "df_small['completion']"
      ],
      "metadata": {
        "colab": {
          "base_uri": "https://localhost:8080/"
        },
        "id": "n54N-ySxjuN2",
        "outputId": "76cc5737-b555-483c-e5fc-1bb7118e15f2"
      },
      "execution_count": null,
      "outputs": [
        {
          "output_type": "execute_result",
          "data": {
            "text/plain": [
              "0    Here is a summary of the article content in on...\n",
              "1    The Livetpoul City Council considered a recomm...\n",
              "2    Here is a summary of the article content in on...\n",
              "3    The article announces the establishment of a n...\n",
              "4    Here is a summary of the article in one senten...\n",
              "Name: completion, dtype: object"
            ]
          },
          "metadata": {},
          "execution_count": 72
        }
      ]
    },
    {
      "cell_type": "markdown",
      "source": [
        "## Example: Biography as microgenre"
      ],
      "metadata": {
        "id": "ov1ySBNokZmj"
      }
    },
    {
      "cell_type": "code",
      "source": [
        "df_small = df.sample(10, random_state=1984).reset_index(drop=True)"
      ],
      "metadata": {
        "id": "wKWWeBVXoFaG"
      },
      "execution_count": null,
      "outputs": []
    },
    {
      "cell_type": "code",
      "source": [
        "system_message = \"\"\"You are an helpful AI that will assist me with analysing and reading newspaper articles.\n",
        "    Read the newspaper articles attentively and extract structured information.\n",
        "    Each newspaper article will be enclosed with triple hash tags (i.e. ###).\n",
        "    Don't make thigs up!\"\"\"\n",
        "\n",
        "\n",
        "user_message = \"\"\"Who are the characters portrayed in the article?\n",
        "    Extract biographical from a newspaper article.\n",
        "    For each identified person return a nested Python dictionary with the key equal to the name of the individual.\n",
        "    The values conist of dictionaries that record specific attributes such as age, gender, nationality, profession ,place of birth etc.\n",
        "    The format has to be a Python dictionary, do not add extra text!\"\"\""
      ],
      "metadata": {
        "id": "xAYqIGPOheVr"
      },
      "execution_count": null,
      "outputs": []
    },
    {
      "cell_type": "code",
      "source": [
        "df_small['completion'] =  df_small.progress_apply(apply_completions,system_message=system_message, user_message=user_message, axis=1)\n"
      ],
      "metadata": {
        "colab": {
          "base_uri": "https://localhost:8080/"
        },
        "id": "cDw5FzAta9Ku",
        "outputId": "87e03e36-a0f1-4118-ce85-8060b34da5f4"
      },
      "execution_count": null,
      "outputs": [
        {
          "output_type": "stream",
          "name": "stderr",
          "text": [
            "  0%|          | 0/10 [00:00<?, ?it/s]Setting `pad_token_id` to `eos_token_id`:128009 for open-end generation.\n",
            " 20%|██        | 2/10 [00:04<00:17,  2.15s/it]Setting `pad_token_id` to `eos_token_id`:128009 for open-end generation.\n",
            " 30%|███       | 3/10 [00:08<00:20,  2.86s/it]Setting `pad_token_id` to `eos_token_id`:128009 for open-end generation.\n",
            " 40%|████      | 4/10 [00:12<00:20,  3.45s/it]Setting `pad_token_id` to `eos_token_id`:128009 for open-end generation.\n",
            " 50%|█████     | 5/10 [00:15<00:15,  3.14s/it]Setting `pad_token_id` to `eos_token_id`:128009 for open-end generation.\n",
            " 60%|██████    | 6/10 [00:22<00:18,  4.67s/it]Setting `pad_token_id` to `eos_token_id`:128009 for open-end generation.\n",
            " 70%|███████   | 7/10 [00:36<00:22,  7.47s/it]Setting `pad_token_id` to `eos_token_id`:128009 for open-end generation.\n",
            " 80%|████████  | 8/10 [00:40<00:13,  6.60s/it]Setting `pad_token_id` to `eos_token_id`:128009 for open-end generation.\n",
            " 90%|█████████ | 9/10 [00:42<00:05,  5.06s/it]Setting `pad_token_id` to `eos_token_id`:128009 for open-end generation.\n",
            "100%|██████████| 10/10 [00:48<00:00,  5.41s/it]Setting `pad_token_id` to `eos_token_id`:128009 for open-end generation.\n",
            "100%|██████████| 10/10 [01:06<00:00,  6.61s/it]\n"
          ]
        }
      ]
    },
    {
      "cell_type": "code",
      "source": [
        "df_small['completion'][5]"
      ],
      "metadata": {
        "colab": {
          "base_uri": "https://localhost:8080/",
          "height": 107
        },
        "id": "BJGmFs9Qq_Tu",
        "outputId": "60360ee4-3fec-4e90-943d-16e3106d7f41"
      },
      "execution_count": null,
      "outputs": [
        {
          "output_type": "execute_result",
          "data": {
            "text/plain": [
              "\"Here is the extracted information in a Python dictionary format:\\n\\n{\\n    'Rev. Mr. Rhodes': {\\n        'profession': 'clergy',\\n        'nationality': 'British'\\n    },\\n    'Mr. John Haling': {\\n        'profession': 'Offlay Arnie',\\n        'nationality': 'British'\\n    },\\n    'Mr. William Steele': {\\n        'profession': 'Flitch of Bacon',\\n        'nationality': 'British'\\n    },\\n    'Mr. Reeves': {\\n        'profession': 'host',\\n        'nationality': 'British'\\n    },\\n    'Mrs. Reeves': {\\n        'profession': 'hostess',\\n        'nationality': 'British'\\n    },\\n    'Warburton': {\\n        'profession':'surgeon',\\n        'nationality': 'British'\\n    },\\n    'Palmer': {\\n        'profession':'surgeon',\\n        'nationality': 'British'\\n    }\\n}\""
            ],
            "application/vnd.google.colaboratory.intrinsic+json": {
              "type": "string"
            }
          },
          "metadata": {},
          "execution_count": 96
        }
      ]
    },
    {
      "cell_type": "code",
      "source": [
        "eval(df_small['completion'][5].split('format:\\n\\n')[-1].strip())"
      ],
      "metadata": {
        "colab": {
          "base_uri": "https://localhost:8080/"
        },
        "id": "tS6AD3QbpL0t",
        "outputId": "3431e436-0b4f-4480-d837-0878a5645cdf"
      },
      "execution_count": null,
      "outputs": [
        {
          "output_type": "execute_result",
          "data": {
            "text/plain": [
              "{'Rev. Mr. Rhodes': {'profession': 'clergy', 'nationality': 'British'},\n",
              " 'Mr. John Haling': {'profession': 'Offlay Arnie', 'nationality': 'British'},\n",
              " 'Mr. William Steele': {'profession': 'Flitch of Bacon',\n",
              "  'nationality': 'British'},\n",
              " 'Mr. Reeves': {'profession': 'host', 'nationality': 'British'},\n",
              " 'Mrs. Reeves': {'profession': 'hostess', 'nationality': 'British'},\n",
              " 'Warburton': {'profession': 'surgeon', 'nationality': 'British'},\n",
              " 'Palmer': {'profession': 'surgeon', 'nationality': 'British'}}"
            ]
          },
          "metadata": {},
          "execution_count": 97
        }
      ]
    },
    {
      "cell_type": "code",
      "source": [
        "eval(df_small['completion'][4].split('format:\\n\\n')[-1].strip())"
      ],
      "metadata": {
        "colab": {
          "base_uri": "https://localhost:8080/"
        },
        "id": "zE2fO-wRrL9f",
        "outputId": "8eae7635-aade-449e-9083-3c231c2f7bed"
      },
      "execution_count": null,
      "outputs": [
        {
          "output_type": "execute_result",
          "data": {
            "text/plain": [
              "{'Robert Thompson': {'age': None,\n",
              "  'gender': None,\n",
              "  'nationality': None,\n",
              "  'profession': 'S.P.C.C. Inspector',\n",
              "  'place_of_birth': 'Aycliffe'},\n",
              " 'Mr J. T. Proud': {'age': None,\n",
              "  'gender': None,\n",
              "  'nationality': None,\n",
              "  'profession': 'S.P.C.C. Inspector',\n",
              "  'place_of_birth': None}}"
            ]
          },
          "metadata": {},
          "execution_count": 106
        }
      ]
    },
    {
      "cell_type": "code",
      "source": [
        "eval(df_small['completion'][2].split('format:\\n\\n')[-1].strip())"
      ],
      "metadata": {
        "colab": {
          "base_uri": "https://localhost:8080/"
        },
        "id": "nyZ-yv8brFdt",
        "outputId": "248e4540-835a-40da-92ca-9fbd8d4b504a"
      },
      "execution_count": null,
      "outputs": [
        {
          "output_type": "execute_result",
          "data": {
            "text/plain": [
              "{'J. K. Donald': {'name': 'J. K. Donald',\n",
              "  'profession': 'Watchmaker and Jeweller'},\n",
              " 'W. Neville': {'name': 'W. Neville', 'profession': 'Watchmaker and Jeweller'}}"
            ]
          },
          "metadata": {},
          "execution_count": 99
        }
      ]
    },
    {
      "cell_type": "markdown",
      "source": [
        "## Example: OCR correction"
      ],
      "metadata": {
        "id": "CWAog9xdpG_q"
      }
    },
    {
      "cell_type": "code",
      "source": [
        "df_small_bad_ocr = df.sort_values('ocrquality')[:5]"
      ],
      "metadata": {
        "id": "G5N8e2qdpKBZ"
      },
      "execution_count": null,
      "outputs": []
    },
    {
      "cell_type": "code",
      "source": [
        "user_message = \"\"\"Transcribe the text and correct typos and errors in the text caused by bad optical character recognition (OCR).\n",
        "Do not add any information that is not in the original text!\"\"\"\n",
        "\n",
        "df_small_bad_ocr['completion'] = df_small_bad_ocr.progress_apply(apply_completions,system_message=system_message, user_message=user_message, axis=1)\n"
      ],
      "metadata": {
        "colab": {
          "base_uri": "https://localhost:8080/"
        },
        "id": "4JXH_oypolYi",
        "outputId": "22d57f98-5b39-4a1e-dfaf-88a95429f08e"
      },
      "execution_count": null,
      "outputs": [
        {
          "output_type": "stream",
          "name": "stderr",
          "text": [
            "  0%|          | 0/5 [00:00<?, ?it/s]Setting `pad_token_id` to `eos_token_id`:128009 for open-end generation.\n",
            " 40%|████      | 2/5 [00:03<00:05,  1.83s/it]Setting `pad_token_id` to `eos_token_id`:128009 for open-end generation.\n",
            " 60%|██████    | 3/5 [00:08<00:05,  2.94s/it]Setting `pad_token_id` to `eos_token_id`:128009 for open-end generation.\n",
            " 80%|████████  | 4/5 [00:09<00:02,  2.45s/it]Setting `pad_token_id` to `eos_token_id`:128009 for open-end generation.\n",
            "100%|██████████| 5/5 [00:13<00:00,  2.76s/it]Setting `pad_token_id` to `eos_token_id`:128009 for open-end generation.\n",
            "100%|██████████| 5/5 [00:30<00:00,  6.08s/it]\n"
          ]
        }
      ]
    },
    {
      "cell_type": "code",
      "source": [
        "print(df_small_bad_ocr.iloc[0]['text'])"
      ],
      "metadata": {
        "colab": {
          "base_uri": "https://localhost:8080/"
        },
        "id": "wjFbCSDYtNx-",
        "outputId": "d3cff75e-2572-48c6-fae3-1be44ecace5b"
      },
      "execution_count": null,
      "outputs": [
        {
          "output_type": "stream",
          "name": "stdout",
          "text": [
            "4.9,oUMPLlAZill—dorr Walnut. annininiiire ‘.7 in nacallent condition. a Ibn. 1.41:.ND; Rigiten porkatzili tu!l drawn . \n"
          ]
        }
      ]
    },
    {
      "cell_type": "code",
      "source": [
        "print(df_small_bad_ocr.iloc[0]['completion'])"
      ],
      "metadata": {
        "colab": {
          "base_uri": "https://localhost:8080/"
        },
        "id": "XLsWShc7tKGs",
        "outputId": "b34b5a49-93f3-4150-f5f9-dc6f39806bbf"
      },
      "execution_count": null,
      "outputs": [
        {
          "output_type": "stream",
          "name": "stdout",
          "text": [
            "I'd be happy to help!\n",
            "\n",
            "Here is the transcribed text with corrections:\n",
            "\n",
            "###4.9, Multiplex Mall - Door Walnut, anniversary.7 in excellent condition. A Ibn. 1.41: AND; Righten porkatzili till drawn. ###\n"
          ]
        }
      ]
    },
    {
      "cell_type": "code",
      "source": [
        "print(df_small_bad_ocr.iloc[4]['text'])"
      ],
      "metadata": {
        "colab": {
          "base_uri": "https://localhost:8080/"
        },
        "id": "6rc0U8WqsXiA",
        "outputId": "8d5f3b99-ea98-403c-cd75-178b370f5754"
      },
      "execution_count": null,
      "outputs": [
        {
          "output_type": "stream",
          "name": "stdout",
          "text": [
            "MaEWAN & WALLACH.  itulilliSUA KILL). EMITS AGICtiTa LAN' VALUERS - v 34, H AMILTUN squARE, 1.7b-lopti 1:4 ul6  AkA;ll  BAND AND SMITH ESTATE AlitE,NTd, SUBNEWILS V AlAi MS, 71. LORD-STILLET LIVFX.POOI4 Div= th4truusa Qrle LibrelWaoots LIMP POOL sod DlValot. Wine, r Idiom i4colli*Mor4di. Tolpphoos WIT Biak. 391 NEVI OliarrialieliOAD, Rock Parry.— &ask etabia or akau Yard 8.401 3s. 6d  WEls. KIRBY A/CD HOYLAXE 7ar - OE LET OR SOLD AMY TO W. F. B\"v-\"• ESTArE AGENT AND VALUER 3, GRANGE ROAD, wEer ILEXBY Telopkrme Hoyaak• 89. gry1684.1.7  Itia•bllabed 1/0. QU FAN AND FOSTER  INSTATE AGENTS & SAMBAS. 2 8013TH STICSAT,LIVSEPOOL Warsaw \" ti4c.o4 TellebOute. Zink 4ii6 1177:1  J0H.30  \n"
          ]
        }
      ]
    },
    {
      "cell_type": "code",
      "source": [
        "print(df_small_bad_ocr.iloc[4]['completion'])"
      ],
      "metadata": {
        "colab": {
          "base_uri": "https://localhost:8080/"
        },
        "id": "Y5BxeDnttYZ7",
        "outputId": "9dd77976-dab7-40b9-8e35-cd3f15cf4017"
      },
      "execution_count": null,
      "outputs": [
        {
          "output_type": "stream",
          "name": "stdout",
          "text": [
            "Here is the transcribed text with corrections for typos and OCR errors:\n",
            "\n",
            "###MaEWAN & WALLACH. It is said that Maewan & Wallach will kill). EMITS AGENT LAN' VALUERS - 34, H AMILTON SQUARE, 1.7b-loft 1:4 ul6  AkA;ll  BAND AND SMITH ESTATE ALIENATED, SUBNEWILS VALUATION, 71. LORD-STILET LIVELY. POOL AND DVALOT. Wine, red or white, is included. Top floor WIT Bank. 391 NEW Oriel Road, Rock Ferry.— Ask estate agent or auction yard 8.401 3s. 6d. WEls. KIRBY AND HOYLAXE 7ar - OE LET OR SOLD AMY TO W. F. Bov-\"• ESTATE AGENT AND VALUER 3, GRANGE ROAD, WEER ILEXBY Telephone Hoylake 89. Gry1684.1.7. It is believed 1/0. QU FAN AND FOSTER INSTATE AGENTS & SAMBAS. 2 8013TH STICSAT, LIVSE\n"
          ]
        }
      ]
    },
    {
      "cell_type": "code",
      "source": [
        "df_small_bad_ocr.to_csv('newspaper_ocr_corrected.csv')"
      ],
      "metadata": {
        "id": "BpChnh_7q-gF"
      },
      "execution_count": null,
      "outputs": []
    },
    {
      "cell_type": "markdown",
      "source": [
        "## Combing filtering and targeted prompting"
      ],
      "metadata": {
        "id": "7-tHuljcsSoZ"
      }
    },
    {
      "cell_type": "code",
      "source": [
        "import re\n",
        "pattern = re.compile(r'\\baccident[s]{0,1}\\b',re.I)\n",
        "df_kw_sample = df[df.apply(lambda x: bool(pattern.findall(x.text)), axis=1)]\n",
        "\n",
        "user_message = \"\"\"Does the newspaper describe a historical accident? If not return an empty Python list'.\n",
        "If it does describe an accident extract, information on the people involved in the accident.\n",
        "Return a list of Python dictionaries. For each dictionary the key is equal to the name of the person.\n",
        "The values list charactertistics of this person such a gender, age and occupation.\n",
        "Only return the Python list and no additional text!\n",
        "\"\"\"\n",
        "df_kw_sample['completion'] = df_kw_sample.progress_apply(apply_completions, user_message=user_message, system_message=system_message, axis=1)\n",
        "df_kw_sample.to_csv('accidents.csv')"
      ],
      "metadata": {
        "colab": {
          "base_uri": "https://localhost:8080/"
        },
        "id": "Xg5Llg_7wOmQ",
        "outputId": "c3b381f9-bd0c-4b30-fe51-49b659155b2d"
      },
      "execution_count": null,
      "outputs": [
        {
          "output_type": "stream",
          "name": "stderr",
          "text": [
            "  0%|          | 0/3 [00:00<?, ?it/s]Setting `pad_token_id` to `eos_token_id`:128009 for open-end generation.\n",
            " 67%|██████▋   | 2/3 [00:03<00:01,  1.79s/it]Setting `pad_token_id` to `eos_token_id`:128009 for open-end generation.\n",
            "100%|██████████| 3/3 [00:03<00:00,  1.14s/it]Setting `pad_token_id` to `eos_token_id`:128009 for open-end generation.\n",
            "100%|██████████| 3/3 [00:05<00:00,  1.91s/it]\n"
          ]
        }
      ]
    },
    {
      "cell_type": "code",
      "source": [
        "df_kw_sample['completion']"
      ],
      "metadata": {
        "colab": {
          "base_uri": "https://localhost:8080/"
        },
        "id": "VsKxeC4RtrEp",
        "outputId": "18ab5bc0-eb98-4a35-9974-3c8515a2d73e"
      },
      "execution_count": null,
      "outputs": [
        {
          "output_type": "execute_result",
          "data": {
            "text/plain": [
              "51    [\\n    {\"Chadder\": {\"gender\": \"male\", \"age\": \"...\n",
              "79                                                   []\n",
              "80    [\\n    {'Postman': {'gender':'male', 'age': 'u...\n",
              "Name: completion, dtype: object"
            ]
          },
          "metadata": {},
          "execution_count": 123
        }
      ]
    },
    {
      "cell_type": "code",
      "source": [
        "eval(df_kw_sample.iloc[0]['completion'])"
      ],
      "metadata": {
        "colab": {
          "base_uri": "https://localhost:8080/"
        },
        "id": "Pd_ZL0orx64i",
        "outputId": "706c84ff-5546-4b61-f4ee-1b711db5bc5d"
      },
      "execution_count": null,
      "outputs": [
        {
          "output_type": "execute_result",
          "data": {
            "text/plain": [
              "[{'Chadder': {'gender': 'male',\n",
              "   'age': 'unknown',\n",
              "   'occupation': 'naval reserves'}},\n",
              " {'James Edmund Flood': {'gender': 'male',\n",
              "   'age': '18',\n",
              "   'occupation': 'unknown'}}]"
            ]
          },
          "metadata": {},
          "execution_count": 124
        }
      ]
    },
    {
      "cell_type": "markdown",
      "source": [
        "## Exercise\n",
        "\n",
        "Experiment with your own system and user message."
      ],
      "metadata": {
        "id": "FzavYR10sI_o"
      }
    },
    {
      "cell_type": "code",
      "source": [],
      "metadata": {
        "id": "OyrtAOQ24cJO"
      },
      "execution_count": null,
      "outputs": []
    }
  ]
}