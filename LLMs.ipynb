{
  "nbformat": 4,
  "nbformat_minor": 0,
  "metadata": {
    "colab": {
      "provenance": [],
      "gpuType": "L4",
      "machine_shape": "hm",
      "collapsed_sections": [
        "Tq0pWVJXoo10"
      ],
      "toc_visible": true,
      "authorship_tag": "ABX9TyNhzKYy0mUSySQ0sSsjPqNt",
      "include_colab_link": true
    },
    "kernelspec": {
      "name": "python3",
      "display_name": "Python 3"
    },
    "language_info": {
      "name": "python"
    },
    "accelerator": "GPU"
  },
  "cells": [
    {
      "cell_type": "markdown",
      "metadata": {
        "id": "view-in-github",
        "colab_type": "text"
      },
      "source": [
        "<a href=\"https://colab.research.google.com/github/kasparvonbeelen/lancaster-newspaper-workshop/blob/wc/LLMs.ipynb\" target=\"_parent\"><img src=\"https://colab.research.google.com/assets/colab-badge.svg\" alt=\"Open In Colab\"/></a>"
      ]
    },
    {
      "cell_type": "markdown",
      "source": [
        "# Epilogue\n",
        "## Using open source LLMs for analysing historical documents"
      ],
      "metadata": {
        "id": "S-2ldxb0iUxG"
      }
    },
    {
      "cell_type": "markdown",
      "source": [
        "Make sure you are using a [GPU](https://cloud.google.com/gpu) when running the code below.\n",
        "\n",
        "Go to **`Runtime`** and select **`Change runtime type`**, then select `T4 GPU` (or any other GPU available)"
      ],
      "metadata": {
        "id": "E_e5BL9Ti3JG"
      }
    },
    {
      "cell_type": "code",
      "source": [
        "# install the transformer libraries\n",
        "!pip install -q -U \"transformers==4.40.0\" datasets --upgrade"
      ],
      "metadata": {
        "id": "qxa9ES0zX9ic"
      },
      "execution_count": null,
      "outputs": []
    },
    {
      "cell_type": "code",
      "source": [
        "import warnings\n",
        "warnings.filterwarnings('ignore') # disable warning"
      ],
      "metadata": {
        "id": "IivyFPPNQ0t-"
      },
      "execution_count": null,
      "outputs": []
    },
    {
      "cell_type": "code",
      "source": [
        "import transformers\n",
        "from datasets import Dataset\n",
        "from tqdm import tqdm\n",
        "import pandas as pd\n",
        "import torch"
      ],
      "metadata": {
        "id": "27FpdOCLasrJ"
      },
      "execution_count": null,
      "outputs": []
    },
    {
      "cell_type": "code",
      "source": [
        "device = 'cuda' # make sure you use a GPU"
      ],
      "metadata": {
        "id": "Uc9ROzqBjxan"
      },
      "execution_count": null,
      "outputs": []
    },
    {
      "cell_type": "code",
      "source": [
        "# load the dataset\n",
        "df = pd.read_csv('https://raw.githubusercontent.com/kasparvonbeelen/lancaster-newspaper-workshop/wc/data/subsample500mixedocr-selected_mitch.csv')\n",
        "df.head(3)"
      ],
      "metadata": {
        "id": "bj-797e0Z9zr"
      },
      "execution_count": 1,
      "outputs": []
    },
    {
      "cell_type": "code",
      "source": [
        "# for the purposes of this exercise, we remove both very short and long documents from the dataset\n",
        "df = df[df.word_count.between(10,250)].reset_index()\n",
        "df.shape"
      ],
      "metadata": {
        "id": "gaf2ZEPWpkdu"
      },
      "execution_count": 2,
      "outputs": []
    },
    {
      "cell_type": "markdown",
      "source": [
        "## The Hugging Face Hub\n",
        "\n",
        "In the example below, we will experiment with Llama-3-8B, a recent series of open-source LLMs created by Meta. To use Llama3 you need to:\n",
        "\n",
        "- Make an account on Hugging Face https://huggingface.co/\n",
        "- Go to the Llama-3-8B and sign the terms of use you should get a reply swiftly https://huggingface.co/meta-llama/Meta-Llama-3-8B\n",
        "- Create a user access token with read access: https://huggingface.co/docs/hub/en/security-tokens\n",
        "- Run the code cell below to log into the Hugging Face hub. Copy-paste the access token\n",
        "- Reply `n` to the question 'Add token as git credential? (Y/n)'"
      ],
      "metadata": {
        "id": "AZ6LGyYkkYff"
      }
    },
    {
      "cell_type": "code",
      "source": [
        "!huggingface-cli login"
      ],
      "metadata": {
        "colab": {
          "base_uri": "https://localhost:8080/"
        },
        "id": "ZnTdsILcavow",
        "outputId": "ead91adf-7397-40b4-a3c2-ac82986ba3be"
      },
      "execution_count": null,
      "outputs": [
        {
          "output_type": "stream",
          "name": "stdout",
          "text": [
            "\n",
            "    _|    _|  _|    _|    _|_|_|    _|_|_|  _|_|_|  _|      _|    _|_|_|      _|_|_|_|    _|_|      _|_|_|  _|_|_|_|\n",
            "    _|    _|  _|    _|  _|        _|          _|    _|_|    _|  _|            _|        _|    _|  _|        _|\n",
            "    _|_|_|_|  _|    _|  _|  _|_|  _|  _|_|    _|    _|  _|  _|  _|  _|_|      _|_|_|    _|_|_|_|  _|        _|_|_|\n",
            "    _|    _|  _|    _|  _|    _|  _|    _|    _|    _|    _|_|  _|    _|      _|        _|    _|  _|        _|\n",
            "    _|    _|    _|_|      _|_|_|    _|_|_|  _|_|_|  _|      _|    _|_|_|      _|        _|    _|    _|_|_|  _|_|_|_|\n",
            "\n",
            "    To login, `huggingface_hub` requires a token generated from https://huggingface.co/settings/tokens .\n",
            "Token: \n",
            "Add token as git credential? (Y/n) n\n",
            "Token is valid (permission: read).\n",
            "Your token has been saved to /root/.cache/huggingface/token\n",
            "Login successful\n"
          ]
        }
      ]
    },
    {
      "cell_type": "markdown",
      "source": [
        "## Load the LLM model"
      ],
      "metadata": {
        "id": "2NNKw2Rknc2C"
      }
    },
    {
      "cell_type": "code",
      "source": [
        "# define the model, we use the instruct variant\n",
        "checkpoint = \"meta-llama/Meta-Llama-3-8B-Instruct\"\n",
        "\n",
        "# instantiate a text generation pipeline\n",
        "pipeline = transformers.pipeline(\n",
        "    \"text-generation\",\n",
        "    model=checkpoint,\n",
        "    model_kwargs={\"torch_dtype\": torch.bfloat16},\n",
        "    device=\"cuda\",\n",
        ")\n",
        "\n",
        "# some fluff to improve the generation\n",
        "terminators = [\n",
        "    pipeline.tokenizer.eos_token_id,\n",
        "    pipeline.tokenizer.convert_tokens_to_ids(\"<|eot_id|>\")\n",
        "]\n"
      ],
      "metadata": {
        "id": "K3dS2EoMTnny"
      },
      "execution_count": 3,
      "outputs": []
    },
    {
      "cell_type": "markdown",
      "source": [
        "## Prompting\n",
        "\n",
        "System message: describe how you want to the LLM to work, the behaviour you want it to exhibit\n",
        "User message: Content you want to process (or the LLM to act on).\n",
        "\n",
        "```python\n",
        "messages [\n",
        "  {\n",
        "    \"role\" : \"system\",\n",
        "    \"content\": \"<system prompt here>\"\n",
        "  },\n",
        "  {\n",
        "    \"role\" : \"user\",\n",
        "    \"content\": \"<user prompt here>\"\n",
        "  }\n",
        "]\n",
        "```"
      ],
      "metadata": {
        "id": "QY1ucJhFnguw"
      }
    },
    {
      "cell_type": "markdown",
      "source": [
        "Define a message by articulating a system and user prompt."
      ],
      "metadata": {
        "id": "GNYCb3IqoRZ7"
      }
    },
    {
      "cell_type": "code",
      "source": [
        "messages = [\n",
        "    {\n",
        "        \"role\": \"system\",\n",
        "        \"content\": \"\"\"\n",
        "          You are an helpful AI that will assist me with analysing and reading newspaper articles.\n",
        "          Read the newspaper articles attentively and extract the required information.\n",
        "          Each newspaper article will be enclosed with triple hash tags (i.e. ###).\n",
        "          Don't make thigs up! If the information is not in the article then just say 'Dunno'\"\"\"\n",
        "              },\n",
        "\n",
        "    {\n",
        "        \"role\": \"user\",\n",
        "        \"content\": f\"\"\"Provide a short description of principal characters portrayed newspaper article?\n",
        "                  ###{df.iloc[0].text}###\"\"\"\n",
        "              }\n",
        "  ]"
      ],
      "metadata": {
        "id": "AO5PEGlsUukK"
      },
      "execution_count": 4,
      "outputs": []
    },
    {
      "cell_type": "code",
      "source": [
        "def get_completion(messages: list, temperature=.1, top_p=.1) -> str:\n",
        "  \"\"\"get completion for given system and user prompt\n",
        "    Arguments:\n",
        "    messages (list): a list containin a system and user message as\n",
        "      python dictionaries with keys 'role' and 'content'\n",
        "    temperature (float): regulate creativity of the text generation\n",
        "    top_p (float): cummulative probability included in the\n",
        "      generation process\n",
        "  \"\"\"\n",
        "  prompt = pipeline.tokenizer.apply_chat_template(\n",
        "        messages,\n",
        "        tokenize=False,\n",
        "        add_generation_prompt=True\n",
        "      )\n",
        "\n",
        "  outputs = pipeline(\n",
        "    prompt,\n",
        "    max_new_tokens=256,\n",
        "    eos_token_id=terminators,\n",
        "    do_sample=True,\n",
        "    temperature=temperature,\n",
        "    top_p=top_p,\n",
        "      )\n",
        "  return outputs[0][\"generated_text\"][len(prompt):]"
      ],
      "metadata": {
        "id": "-MM2Wlv_Vw3y"
      },
      "execution_count": 5,
      "outputs": []
    },
    {
      "cell_type": "code",
      "source": [
        "print(get_completion(messages))"
      ],
      "metadata": {
        "id": "RxUuvcWLTjoZ"
      },
      "execution_count": 6,
      "outputs": []
    },
    {
      "cell_type": "markdown",
      "source": [
        "## Exercise\n",
        "\n",
        "- Change the system message and ask the model to reply in medieval French.\n",
        "- Change the user message and ask the model to summarize the article and condense it to one sentence."
      ],
      "metadata": {
        "id": "SML4OsbfXIk8"
      }
    },
    {
      "cell_type": "code",
      "source": [
        "# Enter code here"
      ],
      "metadata": {
        "id": "0CfZ-Q96omxn"
      },
      "execution_count": null,
      "outputs": []
    },
    {
      "cell_type": "markdown",
      "source": [
        "#### Solution"
      ],
      "metadata": {
        "id": "Tq0pWVJXoo10"
      }
    },
    {
      "cell_type": "code",
      "source": [
        "messages = [\n",
        "    {\"role\": \"system\", \"content\": \"\"\"\n",
        "    You are an helpful AI that will assist me with analysing and reading newspaper articles.\n",
        "    Read the newspaper articles attentively and extract the required information.\n",
        "    Each newspaper article will be enclosed with triple hash tags (i.e. ###).\n",
        "    Don't make thigs up! Answer in medieval French!\"\"\"},\n",
        "    {\"role\": \"user\", \"content\": f\"\"\"Provide a short description of principal characters portrayed newspaper article?\n",
        "    ###{df.iloc[0].text}###\"\"\"}\n",
        "]\n",
        "\n",
        "print(get_completion(messages))\n"
      ],
      "metadata": {
        "id": "am1Ge38tXGP-"
      },
      "execution_count": 9,
      "outputs": []
    },
    {
      "cell_type": "code",
      "source": [
        "messages = [\n",
        "    {\"role\": \"system\", \"content\": \"\"\"\n",
        "    You are an helpful AI that will assist me with analysing and reading newspaper articles.\n",
        "    Read the newspaper articles attentively and extract the required information.\n",
        "    Each newspaper article will be enclosed with triple hash tags (i.e. ###).\n",
        "    Don't make thigs up! If the information is not in the article then just say 'Dunno'\"\"\"},\n",
        "    {\"role\": \"user\", \"content\": f\"\"\"Summarize the article content in one sentence.\n",
        "    ###{df.iloc[0].text}###\"\"\"}\n",
        "]\n",
        "\n",
        "print(get_completion(messages))"
      ],
      "metadata": {
        "id": "pBMVp1OQXg3z"
      },
      "execution_count": 10,
      "outputs": []
    },
    {
      "cell_type": "markdown",
      "source": [
        "## Applying text generation to historical documents\n"
      ],
      "metadata": {
        "id": "gNcYq_a-beX1"
      }
    },
    {
      "cell_type": "markdown",
      "source": [
        "### Example 1: Summarization"
      ],
      "metadata": {
        "id": "USeWpL8Ar-UX"
      }
    },
    {
      "cell_type": "code",
      "source": [
        "df_small = df.sample(5, random_state=1984).reset_index(drop=True)\n",
        "df_small"
      ],
      "metadata": {
        "id": "Cw-N3XoUkRfu"
      },
      "execution_count": 11,
      "outputs": []
    },
    {
      "cell_type": "code",
      "source": [
        "\n",
        "def apply_completions(item: pd.Series,\n",
        "                      system_message: str,\n",
        "                      user_message: str,\n",
        "                      text_column: str = 'text') -> str:\n",
        "  \"\"\"\n",
        "  Function that appl\n",
        "  Argument:\n",
        "    item (pd.Series): row from a pandas Dataframe\n",
        "    system_message (str): system prompt, specifies how the system\n",
        "      should behave in\n",
        "    user_message (str): user prompt, give instruction how to\n",
        "      process each historical. the documents itself will be append\n",
        "      from the 'text_column' argument\n",
        "    text_column (str): name of the text column\n",
        "  \"\"\"\n",
        "  messages = [\n",
        "    {\"role\": \"system\", \"content\": system_message},\n",
        "    {\"role\": \"user\", \"content\": user_message}\n",
        "      ]\n",
        "  messages[1]['content'] += f\"\\n\\n###{item[text_column]}###\"\n",
        "  return  get_completion(messages)"
      ],
      "metadata": {
        "id": "FJiND9t_dkE0"
      },
      "execution_count": null,
      "outputs": []
    },
    {
      "cell_type": "code",
      "source": [
        "tqdm.pandas() # use tqdm to view progress\n",
        "\n",
        "system_message = \"\"\"You are an helpful AI that will assist me with analysing and reading newspaper articles.\n",
        "    Read the newspaper articles attentively and extract the required information.\n",
        "    Each newspaper article will be enclosed with triple hash tags (i.e. ###).\n",
        "    Don't make thigs up! If the information is not in the article then just say 'Dunno'\"\"\"\n",
        "user_message = \"Summarize the article content in one sentence.\"\n",
        "\n",
        "df_small['completion'] =  df_small.progress_apply(apply_completions,system_message=system_message, user_message=user_message, axis=1)"
      ],
      "metadata": {
        "id": "nUEjoux9Y3ZV"
      },
      "execution_count": 12,
      "outputs": []
    },
    {
      "cell_type": "code",
      "source": [
        "# get the summaries\n",
        "df_small['completion']"
      ],
      "metadata": {
        "id": "n54N-ySxjuN2"
      },
      "execution_count": 13,
      "outputs": []
    },
    {
      "cell_type": "markdown",
      "source": [
        "### Example 2: Biography as microgenre"
      ],
      "metadata": {
        "id": "ov1ySBNokZmj"
      }
    },
    {
      "cell_type": "code",
      "source": [
        "df_small = df.sample(10, random_state=1984).reset_index(drop=True)"
      ],
      "metadata": {
        "id": "wKWWeBVXoFaG"
      },
      "execution_count": null,
      "outputs": []
    },
    {
      "cell_type": "code",
      "source": [
        "system_message = \"\"\"You are an helpful AI that will assist me with analysing and reading newspaper articles.\n",
        "    Read the newspaper articles attentively and extract structured information.\n",
        "    Each newspaper article will be enclosed with triple hash tags (i.e. ###).\n",
        "    Don't make thigs up!\"\"\"\n",
        "\n",
        "\n",
        "user_message = \"\"\"Who are the characters portrayed in the article?\n",
        "    Extract biographical from a newspaper article.\n",
        "    For each identified person return a nested Python dictionary with the key equal to the name of the individual.\n",
        "    The values conist of dictionaries that record specific attributes such as age, gender, nationality, profession ,place of birth etc.\n",
        "    The format has to be a Python dictionary, do not add extra text!\"\"\""
      ],
      "metadata": {
        "id": "xAYqIGPOheVr"
      },
      "execution_count": null,
      "outputs": []
    },
    {
      "cell_type": "code",
      "source": [
        "df_small['completion'] =  df_small.progress_apply(apply_completions,system_message=system_message, user_message=user_message, axis=1)\n"
      ],
      "metadata": {
        "id": "cDw5FzAta9Ku"
      },
      "execution_count": 14,
      "outputs": []
    },
    {
      "cell_type": "code",
      "source": [
        "df_small['completion'][5]"
      ],
      "metadata": {
        "id": "BJGmFs9Qq_Tu"
      },
      "execution_count": 15,
      "outputs": []
    },
    {
      "cell_type": "code",
      "source": [
        "eval(df_small['completion'][5].split('format:\\n\\n')[-1].strip())"
      ],
      "metadata": {
        "id": "tS6AD3QbpL0t"
      },
      "execution_count": 16,
      "outputs": []
    },
    {
      "cell_type": "code",
      "source": [
        "eval(df_small['completion'][4].split('format:\\n\\n')[-1].strip())"
      ],
      "metadata": {
        "id": "zE2fO-wRrL9f"
      },
      "execution_count": 17,
      "outputs": []
    },
    {
      "cell_type": "code",
      "source": [
        "eval(df_small['completion'][2].split('format:\\n\\n')[-1].strip())"
      ],
      "metadata": {
        "id": "nyZ-yv8brFdt"
      },
      "execution_count": 18,
      "outputs": []
    },
    {
      "cell_type": "markdown",
      "source": [
        "### Example 3: OCR correction"
      ],
      "metadata": {
        "id": "CWAog9xdpG_q"
      }
    },
    {
      "cell_type": "code",
      "source": [
        "df_small_bad_ocr = df.sort_values('ocrquality')[:5]"
      ],
      "metadata": {
        "id": "G5N8e2qdpKBZ"
      },
      "execution_count": null,
      "outputs": []
    },
    {
      "cell_type": "code",
      "source": [
        "user_message = \"\"\"Transcribe the text and correct typos and errors in the text caused by bad optical character recognition (OCR).\n",
        "Do not add any information that is not in the original text!\"\"\"\n",
        "\n",
        "df_small_bad_ocr['completion'] = df_small_bad_ocr.progress_apply(apply_completions,system_message=system_message, user_message=user_message, axis=1)\n"
      ],
      "metadata": {
        "id": "4JXH_oypolYi"
      },
      "execution_count": 19,
      "outputs": []
    },
    {
      "cell_type": "code",
      "source": [
        "print(df_small_bad_ocr.iloc[0]['text'])"
      ],
      "metadata": {
        "id": "wjFbCSDYtNx-"
      },
      "execution_count": 20,
      "outputs": []
    },
    {
      "cell_type": "code",
      "source": [
        "print(df_small_bad_ocr.iloc[0]['completion'])"
      ],
      "metadata": {
        "id": "XLsWShc7tKGs"
      },
      "execution_count": 21,
      "outputs": []
    },
    {
      "cell_type": "code",
      "source": [
        "print(df_small_bad_ocr.iloc[4]['text'])"
      ],
      "metadata": {
        "id": "6rc0U8WqsXiA"
      },
      "execution_count": 22,
      "outputs": []
    },
    {
      "cell_type": "code",
      "source": [
        "print(df_small_bad_ocr.iloc[4]['completion'])"
      ],
      "metadata": {
        "id": "Y5BxeDnttYZ7"
      },
      "execution_count": 23,
      "outputs": []
    },
    {
      "cell_type": "code",
      "source": [
        "df_small_bad_ocr.to_csv('newspaper_ocr_corrected.csv')"
      ],
      "metadata": {
        "id": "BpChnh_7q-gF"
      },
      "execution_count": null,
      "outputs": []
    },
    {
      "cell_type": "markdown",
      "source": [
        "## Combining document filtering and targeted prompting\n",
        "\n",
        "Below, we combine many the things we covered in the previous notebook. Instead of running an LLM on all the documents, we use regular expressions to select a relevant subset of newspaper articles and use the LLMs to extract structured information."
      ],
      "metadata": {
        "id": "7-tHuljcsSoZ"
      }
    },
    {
      "cell_type": "code",
      "source": [
        "import re\n",
        "pattern = re.compile(r'\\baccident[s]{0,1}\\b',re.I) # compile a regex\n",
        "df_kw_sample = df[df.apply(lambda x: bool(pattern.findall(x.text)), axis=1)] # get only rows that match the regex\n",
        "\n",
        "# define the user message we retain the system message from previous examples\n",
        "user_message = \"\"\"Does the newspaper describe a historical accident? If not return an empty Python list'.\n",
        "If it does describe an accident extract, information on the people involved in the accident.\n",
        "Return a list of Python dictionaries. For each dictionary the key is equal to the name of the person.\n",
        "The values list charactertistics of this person such a gender, age and occupation.\n",
        "Only return the Python list and no additional text!\n",
        "\"\"\"\n",
        "\n",
        "# apply messages\n",
        "df_kw_sample['completion'] = df_kw_sample.progress_apply(apply_completions, user_message=user_message, system_message=system_message, axis=1)\n",
        "# save outputs\n",
        "df_kw_sample.to_csv('accidents.csv')"
      ],
      "metadata": {
        "id": "Xg5Llg_7wOmQ"
      },
      "execution_count": 24,
      "outputs": []
    },
    {
      "cell_type": "code",
      "source": [
        "df_kw_sample['completion']"
      ],
      "metadata": {
        "id": "VsKxeC4RtrEp"
      },
      "execution_count": 25,
      "outputs": []
    },
    {
      "cell_type": "code",
      "source": [
        "eval(df_kw_sample.iloc[0]['completion'])"
      ],
      "metadata": {
        "id": "Pd_ZL0orx64i"
      },
      "execution_count": 26,
      "outputs": []
    },
    {
      "cell_type": "markdown",
      "source": [
        "## Exercise\n",
        "\n",
        "Experiment with your own system and user message! Have fun :-)"
      ],
      "metadata": {
        "id": "FzavYR10sI_o"
      }
    },
    {
      "cell_type": "code",
      "source": [
        "# enter code here"
      ],
      "metadata": {
        "id": "OyrtAOQ24cJO"
      },
      "execution_count": null,
      "outputs": []
    },
    {
      "cell_type": "markdown",
      "source": [
        "# Fin."
      ],
      "metadata": {
        "id": "XzdNxsZPsKr5"
      }
    }
  ]
}